{
 "cells": [
  {
   "cell_type": "code",
   "execution_count": 1,
   "metadata": {
    "id": "T_D0CQjdDPfp"
   },
   "outputs": [],
   "source": [
    "import pandas as pd\n",
    "import numpy as np\n",
    "import seaborn as sns\n",
    "import datetime\n",
    "import matplotlib.pyplot as plt\n",
    "import plotly.express as px"
   ]
  },
  {
   "cell_type": "code",
   "execution_count": 2,
   "metadata": {
    "id": "52MaXNYtBu6Z"
   },
   "outputs": [],
   "source": [
    "# access Google Drive file\n",
    "# Doit être partagé en lecture et écriture aux différents colaborateurs \n",
    "\n",
    "url = 'https://drive.google.com/file/d/1H2JLuuZnXldqgZdkLYFegiJQhl2dujko/view?usp=sharing'\n",
    "path = 'https://drive.google.com/uc?export=download&id='+url.split('/')[-2]\n",
    "df = pd.read_csv(path)"
   ]
  },
  {
   "cell_type": "markdown",
   "metadata": {
    "id": "2YJ68-LLLDfI",
    "tags": []
   },
   "source": [
    "## Exploration Dataset"
   ]
  },
  {
   "cell_type": "code",
   "execution_count": 3,
   "metadata": {
    "colab": {
     "base_uri": "https://localhost:8080/",
     "height": 374
    },
    "id": "bO3NolS3Bu9n",
    "outputId": "3a0a4644-248e-438b-a3d0-01d72a49b13e"
   },
   "outputs": [
    {
     "data": {
      "text/html": [
       "<div>\n",
       "<style scoped>\n",
       "    .dataframe tbody tr th:only-of-type {\n",
       "        vertical-align: middle;\n",
       "    }\n",
       "\n",
       "    .dataframe tbody tr th {\n",
       "        vertical-align: top;\n",
       "    }\n",
       "\n",
       "    .dataframe thead th {\n",
       "        text-align: right;\n",
       "    }\n",
       "</style>\n",
       "<table border=\"1\" class=\"dataframe\">\n",
       "  <thead>\n",
       "    <tr style=\"text-align: right;\">\n",
       "      <th></th>\n",
       "      <th>date_transaction</th>\n",
       "      <th>type_achat</th>\n",
       "      <th>type_bien</th>\n",
       "      <th>nombre_pieces</th>\n",
       "      <th>surface_logement</th>\n",
       "      <th>surface_carrez_logement</th>\n",
       "      <th>surface_terrain</th>\n",
       "      <th>nombre_parkings</th>\n",
       "      <th>prix</th>\n",
       "      <th>adresse</th>\n",
       "      <th>commune</th>\n",
       "      <th>latitude</th>\n",
       "      <th>longitude</th>\n",
       "      <th>date_construction</th>\n",
       "      <th>anciennete</th>\n",
       "    </tr>\n",
       "  </thead>\n",
       "  <tbody>\n",
       "    <tr>\n",
       "      <th>0</th>\n",
       "      <td>2019-10-31</td>\n",
       "      <td>ancien</td>\n",
       "      <td>maison</td>\n",
       "      <td>5</td>\n",
       "      <td>100.0</td>\n",
       "      <td>NaN</td>\n",
       "      <td>247.0</td>\n",
       "      <td>0</td>\n",
       "      <td>530000.0</td>\n",
       "      <td>6 PAS DES ANTONINS</td>\n",
       "      <td>Villeurbanne</td>\n",
       "      <td>45.781673</td>\n",
       "      <td>4.879333</td>\n",
       "      <td>2003-06-11 11:38:24</td>\n",
       "      <td>16.387783</td>\n",
       "    </tr>\n",
       "    <tr>\n",
       "      <th>1</th>\n",
       "      <td>2018-11-26</td>\n",
       "      <td>ancien</td>\n",
       "      <td>maison</td>\n",
       "      <td>2</td>\n",
       "      <td>52.0</td>\n",
       "      <td>NaN</td>\n",
       "      <td>156.0</td>\n",
       "      <td>0</td>\n",
       "      <td>328550.0</td>\n",
       "      <td>12 RUE DU LUIZET</td>\n",
       "      <td>Villeurbanne</td>\n",
       "      <td>45.783240</td>\n",
       "      <td>4.884683</td>\n",
       "      <td>2003-06-11 11:38:24</td>\n",
       "      <td>15.459633</td>\n",
       "    </tr>\n",
       "    <tr>\n",
       "      <th>2</th>\n",
       "      <td>2016-08-04</td>\n",
       "      <td>ancien</td>\n",
       "      <td>appartement</td>\n",
       "      <td>1</td>\n",
       "      <td>28.0</td>\n",
       "      <td>28.2</td>\n",
       "      <td>0.0</td>\n",
       "      <td>1</td>\n",
       "      <td>42500.0</td>\n",
       "      <td>4 RUE DE L ESPOIR</td>\n",
       "      <td>Villeurbanne</td>\n",
       "      <td>45.781488</td>\n",
       "      <td>4.883474</td>\n",
       "      <td>2003-06-11 11:38:24</td>\n",
       "      <td>13.148839</td>\n",
       "    </tr>\n",
       "    <tr>\n",
       "      <th>3</th>\n",
       "      <td>2016-11-18</td>\n",
       "      <td>ancien</td>\n",
       "      <td>appartement</td>\n",
       "      <td>3</td>\n",
       "      <td>67.0</td>\n",
       "      <td>66.3</td>\n",
       "      <td>0.0</td>\n",
       "      <td>1</td>\n",
       "      <td>180900.0</td>\n",
       "      <td>6 RUE DE L ESPOIR</td>\n",
       "      <td>Villeurbanne</td>\n",
       "      <td>45.781488</td>\n",
       "      <td>4.883474</td>\n",
       "      <td>2003-06-11 11:38:24</td>\n",
       "      <td>13.439058</td>\n",
       "    </tr>\n",
       "    <tr>\n",
       "      <th>4</th>\n",
       "      <td>2016-12-16</td>\n",
       "      <td>ancien</td>\n",
       "      <td>appartement</td>\n",
       "      <td>1</td>\n",
       "      <td>28.0</td>\n",
       "      <td>NaN</td>\n",
       "      <td>0.0</td>\n",
       "      <td>1</td>\n",
       "      <td>97000.0</td>\n",
       "      <td>163 AV ROGER SALENGRO</td>\n",
       "      <td>Villeurbanne</td>\n",
       "      <td>45.781488</td>\n",
       "      <td>4.883474</td>\n",
       "      <td>2003-06-11 11:38:24</td>\n",
       "      <td>13.515719</td>\n",
       "    </tr>\n",
       "  </tbody>\n",
       "</table>\n",
       "</div>"
      ],
      "text/plain": [
       "  date_transaction type_achat    type_bien  nombre_pieces  surface_logement  \\\n",
       "0       2019-10-31     ancien       maison              5             100.0   \n",
       "1       2018-11-26     ancien       maison              2              52.0   \n",
       "2       2016-08-04     ancien  appartement              1              28.0   \n",
       "3       2016-11-18     ancien  appartement              3              67.0   \n",
       "4       2016-12-16     ancien  appartement              1              28.0   \n",
       "\n",
       "   surface_carrez_logement  surface_terrain  nombre_parkings      prix  \\\n",
       "0                      NaN            247.0                0  530000.0   \n",
       "1                      NaN            156.0                0  328550.0   \n",
       "2                     28.2              0.0                1   42500.0   \n",
       "3                     66.3              0.0                1  180900.0   \n",
       "4                      NaN              0.0                1   97000.0   \n",
       "\n",
       "                 adresse       commune   latitude  longitude  \\\n",
       "0     6 PAS DES ANTONINS  Villeurbanne  45.781673   4.879333   \n",
       "1       12 RUE DU LUIZET  Villeurbanne  45.783240   4.884683   \n",
       "2      4 RUE DE L ESPOIR  Villeurbanne  45.781488   4.883474   \n",
       "3      6 RUE DE L ESPOIR  Villeurbanne  45.781488   4.883474   \n",
       "4  163 AV ROGER SALENGRO  Villeurbanne  45.781488   4.883474   \n",
       "\n",
       "     date_construction  anciennete  \n",
       "0  2003-06-11 11:38:24   16.387783  \n",
       "1  2003-06-11 11:38:24   15.459633  \n",
       "2  2003-06-11 11:38:24   13.148839  \n",
       "3  2003-06-11 11:38:24   13.439058  \n",
       "4  2003-06-11 11:38:24   13.515719  "
      ]
     },
     "execution_count": 3,
     "metadata": {},
     "output_type": "execute_result"
    }
   ],
   "source": [
    "# aperçu du dataset\n",
    "df.head()"
   ]
  },
  {
   "cell_type": "code",
   "execution_count": 4,
   "metadata": {
    "colab": {
     "base_uri": "https://localhost:8080/",
     "height": 493
    },
    "id": "TEVeM4d5V3vX",
    "outputId": "929ebb2c-1f4a-4725-f044-ae2d8892af8d"
   },
   "outputs": [
    {
     "data": {
      "text/html": [
       "<div>\n",
       "<style scoped>\n",
       "    .dataframe tbody tr th:only-of-type {\n",
       "        vertical-align: middle;\n",
       "    }\n",
       "\n",
       "    .dataframe tbody tr th {\n",
       "        vertical-align: top;\n",
       "    }\n",
       "\n",
       "    .dataframe thead th {\n",
       "        text-align: right;\n",
       "    }\n",
       "</style>\n",
       "<table border=\"1\" class=\"dataframe\">\n",
       "  <thead>\n",
       "    <tr style=\"text-align: right;\">\n",
       "      <th></th>\n",
       "      <th>date_transaction</th>\n",
       "      <th>type_achat</th>\n",
       "      <th>type_bien</th>\n",
       "      <th>nombre_pieces</th>\n",
       "      <th>surface_logement</th>\n",
       "      <th>surface_carrez_logement</th>\n",
       "      <th>surface_terrain</th>\n",
       "      <th>nombre_parkings</th>\n",
       "      <th>prix</th>\n",
       "      <th>adresse</th>\n",
       "      <th>commune</th>\n",
       "      <th>latitude</th>\n",
       "      <th>longitude</th>\n",
       "      <th>date_construction</th>\n",
       "      <th>anciennete</th>\n",
       "    </tr>\n",
       "  </thead>\n",
       "  <tbody>\n",
       "    <tr>\n",
       "      <th>count</th>\n",
       "      <td>40516</td>\n",
       "      <td>40516</td>\n",
       "      <td>40516</td>\n",
       "      <td>40516.000000</td>\n",
       "      <td>40516.000000</td>\n",
       "      <td>26025.000000</td>\n",
       "      <td>40516.000000</td>\n",
       "      <td>40516.000000</td>\n",
       "      <td>4.051600e+04</td>\n",
       "      <td>40179</td>\n",
       "      <td>40516</td>\n",
       "      <td>40373.000000</td>\n",
       "      <td>40373.000000</td>\n",
       "      <td>40516</td>\n",
       "      <td>40516.000000</td>\n",
       "    </tr>\n",
       "    <tr>\n",
       "      <th>unique</th>\n",
       "      <td>1396</td>\n",
       "      <td>2</td>\n",
       "      <td>2</td>\n",
       "      <td>NaN</td>\n",
       "      <td>NaN</td>\n",
       "      <td>NaN</td>\n",
       "      <td>NaN</td>\n",
       "      <td>NaN</td>\n",
       "      <td>NaN</td>\n",
       "      <td>11294</td>\n",
       "      <td>10</td>\n",
       "      <td>NaN</td>\n",
       "      <td>NaN</td>\n",
       "      <td>826</td>\n",
       "      <td>NaN</td>\n",
       "    </tr>\n",
       "    <tr>\n",
       "      <th>top</th>\n",
       "      <td>2017-12-29</td>\n",
       "      <td>ancien</td>\n",
       "      <td>appartement</td>\n",
       "      <td>NaN</td>\n",
       "      <td>NaN</td>\n",
       "      <td>NaN</td>\n",
       "      <td>NaN</td>\n",
       "      <td>NaN</td>\n",
       "      <td>NaN</td>\n",
       "      <td>93 RUE ANDRE BOLLIER</td>\n",
       "      <td>Villeurbanne</td>\n",
       "      <td>NaN</td>\n",
       "      <td>NaN</td>\n",
       "      <td>1990-01-01 00:00:00</td>\n",
       "      <td>NaN</td>\n",
       "    </tr>\n",
       "    <tr>\n",
       "      <th>freq</th>\n",
       "      <td>130</td>\n",
       "      <td>35562</td>\n",
       "      <td>39832</td>\n",
       "      <td>NaN</td>\n",
       "      <td>NaN</td>\n",
       "      <td>NaN</td>\n",
       "      <td>NaN</td>\n",
       "      <td>NaN</td>\n",
       "      <td>NaN</td>\n",
       "      <td>186</td>\n",
       "      <td>10330</td>\n",
       "      <td>NaN</td>\n",
       "      <td>NaN</td>\n",
       "      <td>20427</td>\n",
       "      <td>NaN</td>\n",
       "    </tr>\n",
       "    <tr>\n",
       "      <th>mean</th>\n",
       "      <td>NaN</td>\n",
       "      <td>NaN</td>\n",
       "      <td>NaN</td>\n",
       "      <td>2.792354</td>\n",
       "      <td>65.240251</td>\n",
       "      <td>63.528370</td>\n",
       "      <td>3.764587</td>\n",
       "      <td>0.599319</td>\n",
       "      <td>2.557589e+05</td>\n",
       "      <td>NaN</td>\n",
       "      <td>NaN</td>\n",
       "      <td>45.759185</td>\n",
       "      <td>4.852142</td>\n",
       "      <td>NaN</td>\n",
       "      <td>21.246938</td>\n",
       "    </tr>\n",
       "    <tr>\n",
       "      <th>std</th>\n",
       "      <td>NaN</td>\n",
       "      <td>NaN</td>\n",
       "      <td>NaN</td>\n",
       "      <td>1.180324</td>\n",
       "      <td>28.224352</td>\n",
       "      <td>26.386168</td>\n",
       "      <td>36.446308</td>\n",
       "      <td>0.601396</td>\n",
       "      <td>1.544933e+05</td>\n",
       "      <td>NaN</td>\n",
       "      <td>NaN</td>\n",
       "      <td>0.015053</td>\n",
       "      <td>0.029956</td>\n",
       "      <td>NaN</td>\n",
       "      <td>9.397379</td>\n",
       "    </tr>\n",
       "    <tr>\n",
       "      <th>min</th>\n",
       "      <td>NaN</td>\n",
       "      <td>NaN</td>\n",
       "      <td>NaN</td>\n",
       "      <td>1.000000</td>\n",
       "      <td>20.000000</td>\n",
       "      <td>2.810000</td>\n",
       "      <td>0.000000</td>\n",
       "      <td>0.000000</td>\n",
       "      <td>2.400000e+04</td>\n",
       "      <td>NaN</td>\n",
       "      <td>NaN</td>\n",
       "      <td>45.722048</td>\n",
       "      <td>4.773162</td>\n",
       "      <td>NaN</td>\n",
       "      <td>-3.853563</td>\n",
       "    </tr>\n",
       "    <tr>\n",
       "      <th>25%</th>\n",
       "      <td>NaN</td>\n",
       "      <td>NaN</td>\n",
       "      <td>NaN</td>\n",
       "      <td>2.000000</td>\n",
       "      <td>45.000000</td>\n",
       "      <td>44.700000</td>\n",
       "      <td>0.000000</td>\n",
       "      <td>0.000000</td>\n",
       "      <td>1.552725e+05</td>\n",
       "      <td>NaN</td>\n",
       "      <td>NaN</td>\n",
       "      <td>45.748925</td>\n",
       "      <td>4.831072</td>\n",
       "      <td>NaN</td>\n",
       "      <td>15.064690</td>\n",
       "    </tr>\n",
       "    <tr>\n",
       "      <th>50%</th>\n",
       "      <td>NaN</td>\n",
       "      <td>NaN</td>\n",
       "      <td>NaN</td>\n",
       "      <td>3.000000</td>\n",
       "      <td>63.000000</td>\n",
       "      <td>62.800000</td>\n",
       "      <td>0.000000</td>\n",
       "      <td>1.000000</td>\n",
       "      <td>2.200000e+05</td>\n",
       "      <td>NaN</td>\n",
       "      <td>NaN</td>\n",
       "      <td>45.759559</td>\n",
       "      <td>4.854009</td>\n",
       "      <td>NaN</td>\n",
       "      <td>26.571388</td>\n",
       "    </tr>\n",
       "    <tr>\n",
       "      <th>75%</th>\n",
       "      <td>NaN</td>\n",
       "      <td>NaN</td>\n",
       "      <td>NaN</td>\n",
       "      <td>4.000000</td>\n",
       "      <td>80.000000</td>\n",
       "      <td>78.110000</td>\n",
       "      <td>0.000000</td>\n",
       "      <td>1.000000</td>\n",
       "      <td>3.090000e+05</td>\n",
       "      <td>NaN</td>\n",
       "      <td>NaN</td>\n",
       "      <td>45.770456</td>\n",
       "      <td>4.875617</td>\n",
       "      <td>NaN</td>\n",
       "      <td>28.775403</td>\n",
       "    </tr>\n",
       "    <tr>\n",
       "      <th>max</th>\n",
       "      <td>NaN</td>\n",
       "      <td>NaN</td>\n",
       "      <td>NaN</td>\n",
       "      <td>6.000000</td>\n",
       "      <td>300.000000</td>\n",
       "      <td>270.670000</td>\n",
       "      <td>944.000000</td>\n",
       "      <td>3.000000</td>\n",
       "      <td>2.780000e+06</td>\n",
       "      <td>NaN</td>\n",
       "      <td>NaN</td>\n",
       "      <td>45.805458</td>\n",
       "      <td>4.920161</td>\n",
       "      <td>NaN</td>\n",
       "      <td>31.494144</td>\n",
       "    </tr>\n",
       "  </tbody>\n",
       "</table>\n",
       "</div>"
      ],
      "text/plain": [
       "       date_transaction type_achat    type_bien  nombre_pieces  \\\n",
       "count             40516      40516        40516   40516.000000   \n",
       "unique             1396          2            2            NaN   \n",
       "top          2017-12-29     ancien  appartement            NaN   \n",
       "freq                130      35562        39832            NaN   \n",
       "mean                NaN        NaN          NaN       2.792354   \n",
       "std                 NaN        NaN          NaN       1.180324   \n",
       "min                 NaN        NaN          NaN       1.000000   \n",
       "25%                 NaN        NaN          NaN       2.000000   \n",
       "50%                 NaN        NaN          NaN       3.000000   \n",
       "75%                 NaN        NaN          NaN       4.000000   \n",
       "max                 NaN        NaN          NaN       6.000000   \n",
       "\n",
       "        surface_logement  surface_carrez_logement  surface_terrain  \\\n",
       "count       40516.000000             26025.000000     40516.000000   \n",
       "unique               NaN                      NaN              NaN   \n",
       "top                  NaN                      NaN              NaN   \n",
       "freq                 NaN                      NaN              NaN   \n",
       "mean           65.240251                63.528370         3.764587   \n",
       "std            28.224352                26.386168        36.446308   \n",
       "min            20.000000                 2.810000         0.000000   \n",
       "25%            45.000000                44.700000         0.000000   \n",
       "50%            63.000000                62.800000         0.000000   \n",
       "75%            80.000000                78.110000         0.000000   \n",
       "max           300.000000               270.670000       944.000000   \n",
       "\n",
       "        nombre_parkings          prix               adresse       commune  \\\n",
       "count      40516.000000  4.051600e+04                 40179         40516   \n",
       "unique              NaN           NaN                 11294            10   \n",
       "top                 NaN           NaN  93 RUE ANDRE BOLLIER  Villeurbanne   \n",
       "freq                NaN           NaN                   186         10330   \n",
       "mean           0.599319  2.557589e+05                   NaN           NaN   \n",
       "std            0.601396  1.544933e+05                   NaN           NaN   \n",
       "min            0.000000  2.400000e+04                   NaN           NaN   \n",
       "25%            0.000000  1.552725e+05                   NaN           NaN   \n",
       "50%            1.000000  2.200000e+05                   NaN           NaN   \n",
       "75%            1.000000  3.090000e+05                   NaN           NaN   \n",
       "max            3.000000  2.780000e+06                   NaN           NaN   \n",
       "\n",
       "            latitude     longitude    date_construction    anciennete  \n",
       "count   40373.000000  40373.000000                40516  40516.000000  \n",
       "unique           NaN           NaN                  826           NaN  \n",
       "top              NaN           NaN  1990-01-01 00:00:00           NaN  \n",
       "freq             NaN           NaN                20427           NaN  \n",
       "mean       45.759185      4.852142                  NaN     21.246938  \n",
       "std         0.015053      0.029956                  NaN      9.397379  \n",
       "min        45.722048      4.773162                  NaN     -3.853563  \n",
       "25%        45.748925      4.831072                  NaN     15.064690  \n",
       "50%        45.759559      4.854009                  NaN     26.571388  \n",
       "75%        45.770456      4.875617                  NaN     28.775403  \n",
       "max        45.805458      4.920161                  NaN     31.494144  "
      ]
     },
     "execution_count": 4,
     "metadata": {},
     "output_type": "execute_result"
    }
   ],
   "source": [
    "# Statistiques descriptives par colonne\n",
    "df.describe(include=\"all\")"
   ]
  },
  {
   "cell_type": "code",
   "execution_count": 5,
   "metadata": {
    "colab": {
     "base_uri": "https://localhost:8080/"
    },
    "id": "mZUt9pc6V-Dm",
    "outputId": "386c51f9-75c1-4926-a8ba-484fda491766"
   },
   "outputs": [
    {
     "name": "stdout",
     "output_type": "stream",
     "text": [
      "<class 'pandas.core.frame.DataFrame'>\n",
      "RangeIndex: 40516 entries, 0 to 40515\n",
      "Data columns (total 15 columns):\n",
      " #   Column                   Non-Null Count  Dtype  \n",
      "---  ------                   --------------  -----  \n",
      " 0   date_transaction         40516 non-null  object \n",
      " 1   type_achat               40516 non-null  object \n",
      " 2   type_bien                40516 non-null  object \n",
      " 3   nombre_pieces            40516 non-null  int64  \n",
      " 4   surface_logement         40516 non-null  float64\n",
      " 5   surface_carrez_logement  26025 non-null  float64\n",
      " 6   surface_terrain          40516 non-null  float64\n",
      " 7   nombre_parkings          40516 non-null  int64  \n",
      " 8   prix                     40516 non-null  float64\n",
      " 9   adresse                  40179 non-null  object \n",
      " 10  commune                  40516 non-null  object \n",
      " 11  latitude                 40373 non-null  float64\n",
      " 12  longitude                40373 non-null  float64\n",
      " 13  date_construction        40516 non-null  object \n",
      " 14  anciennete               40516 non-null  float64\n",
      "dtypes: float64(7), int64(2), object(6)\n",
      "memory usage: 4.6+ MB\n"
     ]
    }
   ],
   "source": [
    "# structure dataframe\n",
    "df.info()"
   ]
  },
  {
   "cell_type": "code",
   "execution_count": 6,
   "metadata": {
    "colab": {
     "base_uri": "https://localhost:8080/"
    },
    "id": "Vp536heYV_t3",
    "outputId": "a85a83d7-8688-434b-aba2-978f22f1f3b4"
   },
   "outputs": [
    {
     "data": {
      "text/plain": [
       "date_transaction               0\n",
       "type_achat                     0\n",
       "type_bien                      0\n",
       "nombre_pieces                  0\n",
       "surface_logement               0\n",
       "surface_carrez_logement    14491\n",
       "surface_terrain                0\n",
       "nombre_parkings                0\n",
       "prix                           0\n",
       "adresse                      337\n",
       "commune                        0\n",
       "latitude                     143\n",
       "longitude                    143\n",
       "date_construction              0\n",
       "anciennete                     0\n",
       "dtype: int64"
      ]
     },
     "execution_count": 6,
     "metadata": {},
     "output_type": "execute_result"
    }
   ],
   "source": [
    "# get number of missing values\n",
    "df.isna().sum()"
   ]
  },
  {
   "cell_type": "code",
   "execution_count": 7,
   "metadata": {
    "colab": {
     "base_uri": "https://localhost:8080/"
    },
    "id": "GFT_k6MZWGQm",
    "outputId": "7e1bc82f-33ba-4c16-f191-d940d4563e15"
   },
   "outputs": [
    {
     "data": {
      "text/plain": [
       "Villeurbanne               10330\n",
       "Lyon 3e Arrondissement      5974\n",
       "Lyon 7e Arrondissement      5289\n",
       "Lyon 8e Arrondissement      4626\n",
       "Lyon 9e Arrondissement      3342\n",
       "Lyon 5e Arrondissement      2934\n",
       "Lyon 6e Arrondissement      2451\n",
       "Lyon 4e Arrondissement      2292\n",
       "Lyon 1er Arrondissement     1823\n",
       "Lyon 2e Arrondissement      1455\n",
       "Name: commune, dtype: int64"
      ]
     },
     "execution_count": 7,
     "metadata": {},
     "output_type": "execute_result"
    }
   ],
   "source": [
    "# nombre de biens par commune\n",
    "df['commune'].value_counts()"
   ]
  },
  {
   "cell_type": "code",
   "execution_count": 8,
   "metadata": {
    "id": "4wHanlKDXptZ"
   },
   "outputs": [
    {
     "data": {
      "text/html": [
       "<div>\n",
       "<style scoped>\n",
       "    .dataframe tbody tr th:only-of-type {\n",
       "        vertical-align: middle;\n",
       "    }\n",
       "\n",
       "    .dataframe tbody tr th {\n",
       "        vertical-align: top;\n",
       "    }\n",
       "\n",
       "    .dataframe thead th {\n",
       "        text-align: right;\n",
       "    }\n",
       "</style>\n",
       "<table border=\"1\" class=\"dataframe\">\n",
       "  <thead>\n",
       "    <tr style=\"text-align: right;\">\n",
       "      <th></th>\n",
       "      <th>nombre_pieces</th>\n",
       "      <th>surface_logement</th>\n",
       "      <th>surface_carrez_logement</th>\n",
       "      <th>surface_terrain</th>\n",
       "      <th>nombre_parkings</th>\n",
       "      <th>prix</th>\n",
       "      <th>latitude</th>\n",
       "      <th>longitude</th>\n",
       "      <th>anciennete</th>\n",
       "    </tr>\n",
       "    <tr>\n",
       "      <th>commune</th>\n",
       "      <th></th>\n",
       "      <th></th>\n",
       "      <th></th>\n",
       "      <th></th>\n",
       "      <th></th>\n",
       "      <th></th>\n",
       "      <th></th>\n",
       "      <th></th>\n",
       "      <th></th>\n",
       "    </tr>\n",
       "  </thead>\n",
       "  <tbody>\n",
       "    <tr>\n",
       "      <th>Lyon 1er Arrondissement</th>\n",
       "      <td>2.438837</td>\n",
       "      <td>65.351618</td>\n",
       "      <td>60.237133</td>\n",
       "      <td>0.345584</td>\n",
       "      <td>0.111903</td>\n",
       "      <td>291653.223396</td>\n",
       "      <td>45.769898</td>\n",
       "      <td>4.831334</td>\n",
       "      <td>27.399613</td>\n",
       "    </tr>\n",
       "    <tr>\n",
       "      <th>Lyon 2e Arrondissement</th>\n",
       "      <td>2.629553</td>\n",
       "      <td>73.108591</td>\n",
       "      <td>67.107836</td>\n",
       "      <td>0.000000</td>\n",
       "      <td>0.216495</td>\n",
       "      <td>359737.269718</td>\n",
       "      <td>45.752554</td>\n",
       "      <td>4.827978</td>\n",
       "      <td>24.920508</td>\n",
       "    </tr>\n",
       "    <tr>\n",
       "      <th>Lyon 3e Arrondissement</th>\n",
       "      <td>2.705892</td>\n",
       "      <td>65.449950</td>\n",
       "      <td>62.746541</td>\n",
       "      <td>7.326749</td>\n",
       "      <td>0.640442</td>\n",
       "      <td>273628.312857</td>\n",
       "      <td>45.754327</td>\n",
       "      <td>4.866129</td>\n",
       "      <td>25.287805</td>\n",
       "    </tr>\n",
       "    <tr>\n",
       "      <th>Lyon 4e Arrondissement</th>\n",
       "      <td>2.938045</td>\n",
       "      <td>72.143979</td>\n",
       "      <td>67.867643</td>\n",
       "      <td>4.380454</td>\n",
       "      <td>0.497382</td>\n",
       "      <td>332653.728010</td>\n",
       "      <td>45.778092</td>\n",
       "      <td>4.827497</td>\n",
       "      <td>25.063470</td>\n",
       "    </tr>\n",
       "    <tr>\n",
       "      <th>Lyon 5e Arrondissement</th>\n",
       "      <td>3.119973</td>\n",
       "      <td>71.428766</td>\n",
       "      <td>68.163324</td>\n",
       "      <td>3.891616</td>\n",
       "      <td>0.650988</td>\n",
       "      <td>250540.020382</td>\n",
       "      <td>45.756218</td>\n",
       "      <td>4.801589</td>\n",
       "      <td>23.403405</td>\n",
       "    </tr>\n",
       "    <tr>\n",
       "      <th>Lyon 6e Arrondissement</th>\n",
       "      <td>2.888209</td>\n",
       "      <td>77.096695</td>\n",
       "      <td>73.966886</td>\n",
       "      <td>0.419013</td>\n",
       "      <td>0.397797</td>\n",
       "      <td>395286.337980</td>\n",
       "      <td>45.768896</td>\n",
       "      <td>4.851903</td>\n",
       "      <td>27.372850</td>\n",
       "    </tr>\n",
       "    <tr>\n",
       "      <th>Lyon 7e Arrondissement</th>\n",
       "      <td>2.584988</td>\n",
       "      <td>59.771601</td>\n",
       "      <td>59.796187</td>\n",
       "      <td>0.817546</td>\n",
       "      <td>0.633768</td>\n",
       "      <td>248164.669155</td>\n",
       "      <td>45.742768</td>\n",
       "      <td>4.840709</td>\n",
       "      <td>21.294647</td>\n",
       "    </tr>\n",
       "    <tr>\n",
       "      <th>Lyon 8e Arrondissement</th>\n",
       "      <td>2.789883</td>\n",
       "      <td>61.942283</td>\n",
       "      <td>61.269627</td>\n",
       "      <td>5.073065</td>\n",
       "      <td>0.756809</td>\n",
       "      <td>228460.846706</td>\n",
       "      <td>45.736642</td>\n",
       "      <td>4.867609</td>\n",
       "      <td>22.986062</td>\n",
       "    </tr>\n",
       "    <tr>\n",
       "      <th>Lyon 9e Arrondissement</th>\n",
       "      <td>2.932974</td>\n",
       "      <td>65.531718</td>\n",
       "      <td>64.442202</td>\n",
       "      <td>1.728007</td>\n",
       "      <td>0.646020</td>\n",
       "      <td>218814.217026</td>\n",
       "      <td>45.779965</td>\n",
       "      <td>4.806478</td>\n",
       "      <td>22.066654</td>\n",
       "    </tr>\n",
       "    <tr>\n",
       "      <th>Villeurbanne</th>\n",
       "      <td>2.841336</td>\n",
       "      <td>62.070958</td>\n",
       "      <td>61.438899</td>\n",
       "      <td>5.041045</td>\n",
       "      <td>0.667957</td>\n",
       "      <td>203825.511148</td>\n",
       "      <td>45.767193</td>\n",
       "      <td>4.884621</td>\n",
       "      <td>13.325574</td>\n",
       "    </tr>\n",
       "  </tbody>\n",
       "</table>\n",
       "</div>"
      ],
      "text/plain": [
       "                         nombre_pieces  surface_logement  \\\n",
       "commune                                                    \n",
       "Lyon 1er Arrondissement       2.438837         65.351618   \n",
       "Lyon 2e Arrondissement        2.629553         73.108591   \n",
       "Lyon 3e Arrondissement        2.705892         65.449950   \n",
       "Lyon 4e Arrondissement        2.938045         72.143979   \n",
       "Lyon 5e Arrondissement        3.119973         71.428766   \n",
       "Lyon 6e Arrondissement        2.888209         77.096695   \n",
       "Lyon 7e Arrondissement        2.584988         59.771601   \n",
       "Lyon 8e Arrondissement        2.789883         61.942283   \n",
       "Lyon 9e Arrondissement        2.932974         65.531718   \n",
       "Villeurbanne                  2.841336         62.070958   \n",
       "\n",
       "                         surface_carrez_logement  surface_terrain  \\\n",
       "commune                                                             \n",
       "Lyon 1er Arrondissement                60.237133         0.345584   \n",
       "Lyon 2e Arrondissement                 67.107836         0.000000   \n",
       "Lyon 3e Arrondissement                 62.746541         7.326749   \n",
       "Lyon 4e Arrondissement                 67.867643         4.380454   \n",
       "Lyon 5e Arrondissement                 68.163324         3.891616   \n",
       "Lyon 6e Arrondissement                 73.966886         0.419013   \n",
       "Lyon 7e Arrondissement                 59.796187         0.817546   \n",
       "Lyon 8e Arrondissement                 61.269627         5.073065   \n",
       "Lyon 9e Arrondissement                 64.442202         1.728007   \n",
       "Villeurbanne                           61.438899         5.041045   \n",
       "\n",
       "                         nombre_parkings           prix   latitude  longitude  \\\n",
       "commune                                                                         \n",
       "Lyon 1er Arrondissement         0.111903  291653.223396  45.769898   4.831334   \n",
       "Lyon 2e Arrondissement          0.216495  359737.269718  45.752554   4.827978   \n",
       "Lyon 3e Arrondissement          0.640442  273628.312857  45.754327   4.866129   \n",
       "Lyon 4e Arrondissement          0.497382  332653.728010  45.778092   4.827497   \n",
       "Lyon 5e Arrondissement          0.650988  250540.020382  45.756218   4.801589   \n",
       "Lyon 6e Arrondissement          0.397797  395286.337980  45.768896   4.851903   \n",
       "Lyon 7e Arrondissement          0.633768  248164.669155  45.742768   4.840709   \n",
       "Lyon 8e Arrondissement          0.756809  228460.846706  45.736642   4.867609   \n",
       "Lyon 9e Arrondissement          0.646020  218814.217026  45.779965   4.806478   \n",
       "Villeurbanne                    0.667957  203825.511148  45.767193   4.884621   \n",
       "\n",
       "                         anciennete  \n",
       "commune                              \n",
       "Lyon 1er Arrondissement   27.399613  \n",
       "Lyon 2e Arrondissement    24.920508  \n",
       "Lyon 3e Arrondissement    25.287805  \n",
       "Lyon 4e Arrondissement    25.063470  \n",
       "Lyon 5e Arrondissement    23.403405  \n",
       "Lyon 6e Arrondissement    27.372850  \n",
       "Lyon 7e Arrondissement    21.294647  \n",
       "Lyon 8e Arrondissement    22.986062  \n",
       "Lyon 9e Arrondissement    22.066654  \n",
       "Villeurbanne              13.325574  "
      ]
     },
     "execution_count": 8,
     "metadata": {},
     "output_type": "execute_result"
    }
   ],
   "source": [
    "mean_per_commune = df.groupby([\"commune\"]).mean()\n",
    "mean_per_commune"
   ]
  },
  {
   "cell_type": "code",
   "execution_count": 9,
   "metadata": {
    "colab": {
     "base_uri": "https://localhost:8080/",
     "height": 394
    },
    "id": "AmFuCUDRhDAJ",
    "outputId": "552589bd-cb77-4be4-b30c-56bbcc813c9e"
   },
   "outputs": [
    {
     "data": {
      "text/html": [
       "<div>\n",
       "<style scoped>\n",
       "    .dataframe tbody tr th:only-of-type {\n",
       "        vertical-align: middle;\n",
       "    }\n",
       "\n",
       "    .dataframe tbody tr th {\n",
       "        vertical-align: top;\n",
       "    }\n",
       "\n",
       "    .dataframe thead th {\n",
       "        text-align: right;\n",
       "    }\n",
       "</style>\n",
       "<table border=\"1\" class=\"dataframe\">\n",
       "  <thead>\n",
       "    <tr style=\"text-align: right;\">\n",
       "      <th></th>\n",
       "      <th>prix</th>\n",
       "    </tr>\n",
       "    <tr>\n",
       "      <th>commune</th>\n",
       "      <th></th>\n",
       "    </tr>\n",
       "  </thead>\n",
       "  <tbody>\n",
       "    <tr>\n",
       "      <th>Lyon 1er Arrondissement</th>\n",
       "      <td>291653</td>\n",
       "    </tr>\n",
       "    <tr>\n",
       "      <th>Lyon 2e Arrondissement</th>\n",
       "      <td>359737</td>\n",
       "    </tr>\n",
       "    <tr>\n",
       "      <th>Lyon 3e Arrondissement</th>\n",
       "      <td>273628</td>\n",
       "    </tr>\n",
       "    <tr>\n",
       "      <th>Lyon 4e Arrondissement</th>\n",
       "      <td>332653</td>\n",
       "    </tr>\n",
       "    <tr>\n",
       "      <th>Lyon 5e Arrondissement</th>\n",
       "      <td>250540</td>\n",
       "    </tr>\n",
       "    <tr>\n",
       "      <th>Lyon 6e Arrondissement</th>\n",
       "      <td>395286</td>\n",
       "    </tr>\n",
       "    <tr>\n",
       "      <th>Lyon 7e Arrondissement</th>\n",
       "      <td>248164</td>\n",
       "    </tr>\n",
       "    <tr>\n",
       "      <th>Lyon 8e Arrondissement</th>\n",
       "      <td>228460</td>\n",
       "    </tr>\n",
       "    <tr>\n",
       "      <th>Lyon 9e Arrondissement</th>\n",
       "      <td>218814</td>\n",
       "    </tr>\n",
       "    <tr>\n",
       "      <th>Villeurbanne</th>\n",
       "      <td>203825</td>\n",
       "    </tr>\n",
       "  </tbody>\n",
       "</table>\n",
       "</div>"
      ],
      "text/plain": [
       "                           prix\n",
       "commune                        \n",
       "Lyon 1er Arrondissement  291653\n",
       "Lyon 2e Arrondissement   359737\n",
       "Lyon 3e Arrondissement   273628\n",
       "Lyon 4e Arrondissement   332653\n",
       "Lyon 5e Arrondissement   250540\n",
       "Lyon 6e Arrondissement   395286\n",
       "Lyon 7e Arrondissement   248164\n",
       "Lyon 8e Arrondissement   228460\n",
       "Lyon 9e Arrondissement   218814\n",
       "Villeurbanne             203825"
      ]
     },
     "execution_count": 9,
     "metadata": {},
     "output_type": "execute_result"
    }
   ],
   "source": [
    "# Prix moyen par commune - all\n",
    "df_prix = pd.DataFrame({'commune': df[\"commune\"], 'prix': df[\"prix\"]})\n",
    "prix_commune = df_prix.groupby([\"commune\"]).mean().apply(np.int64)\n",
    "prix_commune"
   ]
  },
  {
   "cell_type": "code",
   "execution_count": 10,
   "metadata": {
    "id": "ozdC3AaBoVFZ"
   },
   "outputs": [],
   "source": [
    "#Création de 2 colonnes year, month \n",
    "df['date_transaction']= pd.to_datetime(df['date_transaction']) \n",
    "\n",
    "df.insert(loc = 1, column = 'Annee_vente', value = df['date_transaction'].dt.year)\n",
    "df.insert(loc = 2, column = 'Mois', value = df['date_transaction'].dt.month)"
   ]
  },
  {
   "cell_type": "code",
   "execution_count": 11,
   "metadata": {
    "colab": {
     "base_uri": "https://localhost:8080/"
    },
    "id": "mNaZhWsmFRQO",
    "outputId": "5c7eeb37-1fd3-4b5d-ce97-fc7a7a9cfaa5"
   },
   "outputs": [
    {
     "data": {
      "text/plain": [
       "1990-01-01 00:00:00    20427\n",
       "2003-06-11 11:38:24     8514\n",
       "2021-03-13 11:38:24      225\n",
       "1996-11-30 11:38:24      219\n",
       "2020-06-10 11:38:24      193\n",
       "                       ...  \n",
       "2018-07-11 11:38:24        1\n",
       "2017-12-13 11:38:24        1\n",
       "2001-12-26 11:38:24        1\n",
       "2014-02-19 11:38:24        1\n",
       "2005-01-28 11:38:24        1\n",
       "Name: date_construction, Length: 826, dtype: int64"
      ]
     },
     "execution_count": 11,
     "metadata": {},
     "output_type": "execute_result"
    }
   ],
   "source": [
    "df[\"date_construction\"].value_counts()"
   ]
  },
  {
   "cell_type": "code",
   "execution_count": 12,
   "metadata": {},
   "outputs": [
    {
     "data": {
      "text/plain": [
       "Index(['date_transaction', 'Annee_vente', 'Mois', 'type_achat', 'type_bien',\n",
       "       'nombre_pieces', 'surface_logement', 'surface_carrez_logement',\n",
       "       'surface_terrain', 'nombre_parkings', 'prix', 'adresse', 'commune',\n",
       "       'latitude', 'longitude', 'date_construction', 'anciennete'],\n",
       "      dtype='object')"
      ]
     },
     "execution_count": 12,
     "metadata": {},
     "output_type": "execute_result"
    }
   ],
   "source": [
    "df.columns"
   ]
  },
  {
   "cell_type": "markdown",
   "metadata": {
    "id": "TRHfClIJP4gG"
   },
   "source": [
    "## EDA"
   ]
  },
  {
   "cell_type": "code",
   "execution_count": 13,
   "metadata": {
    "colab": {
     "base_uri": "https://localhost:8080/",
     "height": 517
    },
    "id": "TfNc252SGEZD",
    "outputId": "eae15fe6-9ffb-47e5-9b9f-9a142a8be30b"
   },
   "outputs": [
    {
     "data": {
      "image/png": "[encoded data removed]",
      "text/plain": [
       "<Figure size 648x576 with 1 Axes>"
      ]
     },
     "metadata": {
      "needs_background": "light"
     },
     "output_type": "display_data"
    }
   ],
   "source": [
    "# EDA - Prix par année \n",
    "x = [df[\"Annee_vente\"]]\n",
    "y = [df[\"prix\"]]\n",
    "\n",
    "plt.figure(figsize=(9, 8))\n",
    "plt.scatter(x, y, linewidths=8, c=\"#1fb791\")\n",
    "plt.title(\"Evolution du prix entre 2016 et 2021\")\n",
    "plt.show()"
   ]
  },
  {
   "cell_type": "code",
   "execution_count": 14,
   "metadata": {},
   "outputs": [],
   "source": [
    "#prix_commune = df.groupby(['commune']).value_counts().apply(np.int64)\n",
    "\n",
    "df_prix = pd.DataFrame({'commune': df[\"commune\"], 'prix': df[\"prix\"]})\n",
    "nb_bien = df_prix[\"commune\"].value_counts()\n",
    "commune = df_prix.groupby('commune').count()"
   ]
  },
  {
   "cell_type": "code",
   "execution_count": 15,
   "metadata": {},
   "outputs": [],
   "source": [
    "commune = commune.sort_values(by=\"prix\",ascending=False)"
   ]
  },
  {
   "cell_type": "code",
   "execution_count": 16,
   "metadata": {},
   "outputs": [
    {
     "data": {
      "text/plain": [
       "<AxesSubplot:title={'center':'Nombre de bien vendus par commune'}, xlabel='commune'>"
      ]
     },
     "execution_count": 16,
     "metadata": {},
     "output_type": "execute_result"
    },
    {
     "data": {
      "image/png": "[encoded data removed]",
      "text/plain": [
       "<Figure size 432x288 with 1 Axes>"
      ]
     },
     "metadata": {
      "needs_background": "light"
     },
     "output_type": "display_data"
    }
   ],
   "source": [
    "commune.plot(kind=\"bar\", color='#1fb791', title='Nombre de bien vendus par commune')"
   ]
  },
  {
   "cell_type": "code",
   "execution_count": null,
   "metadata": {},
   "outputs": [],
   "source": []
  },
  {
   "cell_type": "code",
   "execution_count": 17,
   "metadata": {
    "colab": {
     "base_uri": "https://localhost:8080/",
     "height": 837
    },
    "id": "R_E9yk-YPuZ_",
    "outputId": "ba685809-8336-4389-d771-a695cea8b9f9"
   },
   "outputs": [
    {
     "data": {
      "text/plain": [
       "<AxesSubplot:>"
      ]
     },
     "execution_count": 17,
     "metadata": {},
     "output_type": "execute_result"
    },
    {
     "data": {
      "image/png": "[encoded data removed]",
      "text/plain": [
       "<Figure size 1152x864 with 2 Axes>"
      ]
     },
     "metadata": {
      "needs_background": "light"
     },
     "output_type": "display_data"
    }
   ],
   "source": [
    "corr_df = df.corr(method='pearson')\n",
    "plt.figure(figsize=(16, 12))\n",
    "sns.heatmap(corr_df, annot=True)"
   ]
  },
  {
   "cell_type": "code",
   "execution_count": 18,
   "metadata": {
    "colab": {
     "base_uri": "https://localhost:8080/",
     "height": 206
    },
    "id": "8noeFMXyN0K-",
    "outputId": "a46cfb44-0910-458f-b5f3-56e062fd88c2"
   },
   "outputs": [
    {
     "data": {
      "text/html": [
       "<div>\n",
       "<style scoped>\n",
       "    .dataframe tbody tr th:only-of-type {\n",
       "        vertical-align: middle;\n",
       "    }\n",
       "\n",
       "    .dataframe tbody tr th {\n",
       "        vertical-align: top;\n",
       "    }\n",
       "\n",
       "    .dataframe thead th {\n",
       "        text-align: right;\n",
       "    }\n",
       "</style>\n",
       "<table border=\"1\" class=\"dataframe\">\n",
       "  <thead>\n",
       "    <tr style=\"text-align: right;\">\n",
       "      <th></th>\n",
       "      <th>commune</th>\n",
       "      <th>prix</th>\n",
       "    </tr>\n",
       "  </thead>\n",
       "  <tbody>\n",
       "    <tr>\n",
       "      <th>0</th>\n",
       "      <td>Villeurbanne</td>\n",
       "      <td>530000.0</td>\n",
       "    </tr>\n",
       "    <tr>\n",
       "      <th>1</th>\n",
       "      <td>Villeurbanne</td>\n",
       "      <td>328550.0</td>\n",
       "    </tr>\n",
       "    <tr>\n",
       "      <th>2</th>\n",
       "      <td>Villeurbanne</td>\n",
       "      <td>42500.0</td>\n",
       "    </tr>\n",
       "    <tr>\n",
       "      <th>3</th>\n",
       "      <td>Villeurbanne</td>\n",
       "      <td>180900.0</td>\n",
       "    </tr>\n",
       "    <tr>\n",
       "      <th>4</th>\n",
       "      <td>Villeurbanne</td>\n",
       "      <td>97000.0</td>\n",
       "    </tr>\n",
       "  </tbody>\n",
       "</table>\n",
       "</div>"
      ],
      "text/plain": [
       "        commune      prix\n",
       "0  Villeurbanne  530000.0\n",
       "1  Villeurbanne  328550.0\n",
       "2  Villeurbanne   42500.0\n",
       "3  Villeurbanne  180900.0\n",
       "4  Villeurbanne   97000.0"
      ]
     },
     "execution_count": 18,
     "metadata": {},
     "output_type": "execute_result"
    }
   ],
   "source": [
    "df_prix.head()"
   ]
  },
  {
   "cell_type": "code",
   "execution_count": 19,
   "metadata": {
    "id": "sy4HrXjqVMeM"
   },
   "outputs": [
    {
     "data": {
      "text/plain": [
       "<AxesSubplot:title={'center':'Prix de vente moyen par commune'}, xlabel='commune'>"
      ]
     },
     "execution_count": 19,
     "metadata": {},
     "output_type": "execute_result"
    },
    {
     "data": {
      "image/png": "[encoded data removed]",
      "text/plain": [
       "<Figure size 432x288 with 1 Axes>"
      ]
     },
     "metadata": {
      "needs_background": "light"
     },
     "output_type": "display_data"
    }
   ],
   "source": [
    "df_prix = df_prix.groupby([\"commune\"]).median()\n",
    "df_prix = df_prix.sort_values(by=\"prix\",ascending=False)\n",
    "df_prix.plot(kind=\"bar\", title =\"Prix de vente moyen par commune\")"
   ]
  },
  {
   "cell_type": "code",
   "execution_count": 20,
   "metadata": {},
   "outputs": [
    {
     "data": {
      "text/plain": [
       "<AxesSubplot:title={'center':'Prix moyen du m2 par commune'}, xlabel='commune'>"
      ]
     },
     "execution_count": 20,
     "metadata": {},
     "output_type": "execute_result"
    },
    {
     "data": {
      "image/png": "[encoded data removed]",
      "text/plain": [
       "<Figure size 432x288 with 1 Axes>"
      ]
     },
     "metadata": {
      "needs_background": "light"
     },
     "output_type": "display_data"
    }
   ],
   "source": [
    "prix_m2 = df[\"prix\"]/df[\"surface_logement\"]\n",
    "prix_m2_commune = prix_m2.groupby(df[\"commune\"]).mean()\n",
    "prix_m2_commune = prix_m2_commune.sort_values(ascending=False)\n",
    "prix_m2_commune.plot(kind=\"bar\", title=\"Prix moyen du m2 par commune\")"
   ]
  },
  {
   "cell_type": "code",
   "execution_count": 21,
   "metadata": {
    "colab": {
     "base_uri": "https://localhost:8080/",
     "height": 428
    },
    "id": "eyE_ET-Pspfv",
    "outputId": "20919338-0491-4c32-dbb9-c4ddd7b221d3"
   },
   "outputs": [
    {
     "data": {
      "text/plain": [
       "<AxesSubplot:title={'center':'Surface moyenne par commune'}, xlabel='commune'>"
      ]
     },
     "execution_count": 21,
     "metadata": {},
     "output_type": "execute_result"
    },
    {
     "data": {
      "image/png": "[encoded data removed]",
      "text/plain": [
       "<Figure size 432x288 with 1 Axes>"
      ]
     },
     "metadata": {
      "needs_background": "light"
     },
     "output_type": "display_data"
    }
   ],
   "source": [
    "surface_moyenne = df[\"surface_logement\"].groupby(df[\"commune\"]).mean()\n",
    "surface_moyenne.plot(kind=\"bar\", title=\"Surface moyenne par commune\")"
   ]
  },
  {
   "cell_type": "code",
   "execution_count": 22,
   "metadata": {
    "id": "wpxsupHuwDFM"
   },
   "outputs": [],
   "source": [
    "# retrait de colonnes considérées inutiles à l'objectif\n",
    "df = df.drop(['date_transaction', 'surface_carrez_logement', 'adresse','anciennete'], axis = 1)"
   ]
  },
  {
   "cell_type": "code",
   "execution_count": 23,
   "metadata": {
    "colab": {
     "base_uri": "https://localhost:8080/",
     "height": 206
    },
    "id": "FsI_3C3exzBM",
    "outputId": "2dec10f5-3410-4cd0-cad4-6714e51ca6f8"
   },
   "outputs": [
    {
     "data": {
      "text/html": [
       "<div>\n",
       "<style scoped>\n",
       "    .dataframe tbody tr th:only-of-type {\n",
       "        vertical-align: middle;\n",
       "    }\n",
       "\n",
       "    .dataframe tbody tr th {\n",
       "        vertical-align: top;\n",
       "    }\n",
       "\n",
       "    .dataframe thead th {\n",
       "        text-align: right;\n",
       "    }\n",
       "</style>\n",
       "<table border=\"1\" class=\"dataframe\">\n",
       "  <thead>\n",
       "    <tr style=\"text-align: right;\">\n",
       "      <th></th>\n",
       "      <th>Annee_vente</th>\n",
       "      <th>Mois</th>\n",
       "      <th>type_achat</th>\n",
       "      <th>type_bien</th>\n",
       "      <th>nombre_pieces</th>\n",
       "      <th>surface_logement</th>\n",
       "      <th>surface_terrain</th>\n",
       "      <th>nombre_parkings</th>\n",
       "      <th>prix</th>\n",
       "      <th>commune</th>\n",
       "      <th>latitude</th>\n",
       "      <th>longitude</th>\n",
       "      <th>date_construction</th>\n",
       "    </tr>\n",
       "  </thead>\n",
       "  <tbody>\n",
       "    <tr>\n",
       "      <th>0</th>\n",
       "      <td>2019</td>\n",
       "      <td>10</td>\n",
       "      <td>ancien</td>\n",
       "      <td>maison</td>\n",
       "      <td>5</td>\n",
       "      <td>100.0</td>\n",
       "      <td>247.0</td>\n",
       "      <td>0</td>\n",
       "      <td>530000.0</td>\n",
       "      <td>Villeurbanne</td>\n",
       "      <td>45.781673</td>\n",
       "      <td>4.879333</td>\n",
       "      <td>2003-06-11 11:38:24</td>\n",
       "    </tr>\n",
       "    <tr>\n",
       "      <th>1</th>\n",
       "      <td>2018</td>\n",
       "      <td>11</td>\n",
       "      <td>ancien</td>\n",
       "      <td>maison</td>\n",
       "      <td>2</td>\n",
       "      <td>52.0</td>\n",
       "      <td>156.0</td>\n",
       "      <td>0</td>\n",
       "      <td>328550.0</td>\n",
       "      <td>Villeurbanne</td>\n",
       "      <td>45.783240</td>\n",
       "      <td>4.884683</td>\n",
       "      <td>2003-06-11 11:38:24</td>\n",
       "    </tr>\n",
       "    <tr>\n",
       "      <th>2</th>\n",
       "      <td>2016</td>\n",
       "      <td>8</td>\n",
       "      <td>ancien</td>\n",
       "      <td>appartement</td>\n",
       "      <td>1</td>\n",
       "      <td>28.0</td>\n",
       "      <td>0.0</td>\n",
       "      <td>1</td>\n",
       "      <td>42500.0</td>\n",
       "      <td>Villeurbanne</td>\n",
       "      <td>45.781488</td>\n",
       "      <td>4.883474</td>\n",
       "      <td>2003-06-11 11:38:24</td>\n",
       "    </tr>\n",
       "    <tr>\n",
       "      <th>3</th>\n",
       "      <td>2016</td>\n",
       "      <td>11</td>\n",
       "      <td>ancien</td>\n",
       "      <td>appartement</td>\n",
       "      <td>3</td>\n",
       "      <td>67.0</td>\n",
       "      <td>0.0</td>\n",
       "      <td>1</td>\n",
       "      <td>180900.0</td>\n",
       "      <td>Villeurbanne</td>\n",
       "      <td>45.781488</td>\n",
       "      <td>4.883474</td>\n",
       "      <td>2003-06-11 11:38:24</td>\n",
       "    </tr>\n",
       "    <tr>\n",
       "      <th>4</th>\n",
       "      <td>2016</td>\n",
       "      <td>12</td>\n",
       "      <td>ancien</td>\n",
       "      <td>appartement</td>\n",
       "      <td>1</td>\n",
       "      <td>28.0</td>\n",
       "      <td>0.0</td>\n",
       "      <td>1</td>\n",
       "      <td>97000.0</td>\n",
       "      <td>Villeurbanne</td>\n",
       "      <td>45.781488</td>\n",
       "      <td>4.883474</td>\n",
       "      <td>2003-06-11 11:38:24</td>\n",
       "    </tr>\n",
       "  </tbody>\n",
       "</table>\n",
       "</div>"
      ],
      "text/plain": [
       "   Annee_vente  Mois type_achat    type_bien  nombre_pieces  surface_logement  \\\n",
       "0         2019    10     ancien       maison              5             100.0   \n",
       "1         2018    11     ancien       maison              2              52.0   \n",
       "2         2016     8     ancien  appartement              1              28.0   \n",
       "3         2016    11     ancien  appartement              3              67.0   \n",
       "4         2016    12     ancien  appartement              1              28.0   \n",
       "\n",
       "   surface_terrain  nombre_parkings      prix       commune   latitude  \\\n",
       "0            247.0                0  530000.0  Villeurbanne  45.781673   \n",
       "1            156.0                0  328550.0  Villeurbanne  45.783240   \n",
       "2              0.0                1   42500.0  Villeurbanne  45.781488   \n",
       "3              0.0                1  180900.0  Villeurbanne  45.781488   \n",
       "4              0.0                1   97000.0  Villeurbanne  45.781488   \n",
       "\n",
       "   longitude    date_construction  \n",
       "0   4.879333  2003-06-11 11:38:24  \n",
       "1   4.884683  2003-06-11 11:38:24  \n",
       "2   4.883474  2003-06-11 11:38:24  \n",
       "3   4.883474  2003-06-11 11:38:24  \n",
       "4   4.883474  2003-06-11 11:38:24  "
      ]
     },
     "execution_count": 23,
     "metadata": {},
     "output_type": "execute_result"
    }
   ],
   "source": [
    "df.head()"
   ]
  },
  {
   "cell_type": "code",
   "execution_count": 24,
   "metadata": {
    "id": "S_FWxJ14Lirp"
   },
   "outputs": [],
   "source": [
    "#Remplacement de la colonne 'date_construction' par une colonne 'annee_construction' au format YYYY \n",
    "\n",
    "df['date_construction']= pd.to_datetime(df['date_construction']) \n",
    "\n",
    "df.insert(loc = 1, column = 'Annee_construction', value = df['date_construction'].dt.year)\n",
    "df = df.drop([\"date_construction\"], axis = 1)"
   ]
  },
  {
   "cell_type": "code",
   "execution_count": 25,
   "metadata": {
    "colab": {
     "base_uri": "https://localhost:8080/",
     "height": 81
    },
    "id": "FJROK4rBMI_5",
    "outputId": "86a21598-147a-4ac4-b025-e5a134462861"
   },
   "outputs": [
    {
     "data": {
      "text/html": [
       "<div>\n",
       "<style scoped>\n",
       "    .dataframe tbody tr th:only-of-type {\n",
       "        vertical-align: middle;\n",
       "    }\n",
       "\n",
       "    .dataframe tbody tr th {\n",
       "        vertical-align: top;\n",
       "    }\n",
       "\n",
       "    .dataframe thead th {\n",
       "        text-align: right;\n",
       "    }\n",
       "</style>\n",
       "<table border=\"1\" class=\"dataframe\">\n",
       "  <thead>\n",
       "    <tr style=\"text-align: right;\">\n",
       "      <th></th>\n",
       "      <th>Annee_vente</th>\n",
       "      <th>Annee_construction</th>\n",
       "      <th>Mois</th>\n",
       "      <th>type_achat</th>\n",
       "      <th>type_bien</th>\n",
       "      <th>nombre_pieces</th>\n",
       "      <th>surface_logement</th>\n",
       "      <th>surface_terrain</th>\n",
       "      <th>nombre_parkings</th>\n",
       "      <th>prix</th>\n",
       "      <th>commune</th>\n",
       "      <th>latitude</th>\n",
       "      <th>longitude</th>\n",
       "    </tr>\n",
       "  </thead>\n",
       "  <tbody>\n",
       "    <tr>\n",
       "      <th>0</th>\n",
       "      <td>2019</td>\n",
       "      <td>2003</td>\n",
       "      <td>10</td>\n",
       "      <td>ancien</td>\n",
       "      <td>maison</td>\n",
       "      <td>5</td>\n",
       "      <td>100.0</td>\n",
       "      <td>247.0</td>\n",
       "      <td>0</td>\n",
       "      <td>530000.0</td>\n",
       "      <td>Villeurbanne</td>\n",
       "      <td>45.781673</td>\n",
       "      <td>4.879333</td>\n",
       "    </tr>\n",
       "  </tbody>\n",
       "</table>\n",
       "</div>"
      ],
      "text/plain": [
       "   Annee_vente  Annee_construction  Mois type_achat type_bien  nombre_pieces  \\\n",
       "0         2019                2003    10     ancien    maison              5   \n",
       "\n",
       "   surface_logement  surface_terrain  nombre_parkings      prix       commune  \\\n",
       "0             100.0            247.0                0  530000.0  Villeurbanne   \n",
       "\n",
       "    latitude  longitude  \n",
       "0  45.781673   4.879333  "
      ]
     },
     "execution_count": 25,
     "metadata": {},
     "output_type": "execute_result"
    }
   ],
   "source": [
    "df.head(1)"
   ]
  },
  {
   "cell_type": "code",
   "execution_count": 26,
   "metadata": {
    "colab": {
     "base_uri": "https://localhost:8080/",
     "height": 274
    },
    "id": "WJvTF2PJyBhM",
    "outputId": "f4ce4d5e-6a47-4843-c008-e444fa6f3831"
   },
   "outputs": [
    {
     "data": {
      "text/plain": [
       "Annee_vente             int64\n",
       "Annee_construction      int64\n",
       "Mois                    int64\n",
       "type_achat             object\n",
       "type_bien              object\n",
       "nombre_pieces           int64\n",
       "surface_logement      float64\n",
       "surface_terrain       float64\n",
       "nombre_parkings         int64\n",
       "prix                  float64\n",
       "commune                object\n",
       "latitude              float64\n",
       "longitude             float64\n",
       "dtype: object"
      ]
     },
     "metadata": {},
     "output_type": "display_data"
    }
   ],
   "source": [
    "# displaying the datatypes\n",
    "display(df.dtypes)"
   ]
  },
  {
   "cell_type": "code",
   "execution_count": 27,
   "metadata": {
    "id": "a-ITwmKE6htt"
   },
   "outputs": [
    {
     "data": {
      "text/plain": [
       "Annee_vente             int64\n",
       "Annee_construction      int64\n",
       "Mois                    int64\n",
       "type_achat             object\n",
       "type_bien              object\n",
       "nombre_pieces           int64\n",
       "surface_logement        int64\n",
       "surface_terrain         int64\n",
       "nombre_parkings         int64\n",
       "prix                    int64\n",
       "commune                object\n",
       "latitude              float64\n",
       "longitude             float64\n",
       "dtype: object"
      ]
     },
     "metadata": {},
     "output_type": "display_data"
    }
   ],
   "source": [
    "# converting 'surface_logement', 'surface_terrain' and 'prix' from float to int\n",
    "df['surface_logement'] = df['surface_logement'].apply(np.int64)\n",
    "df['surface_terrain'] = df['surface_terrain'].apply(np.int64)\n",
    "df['prix'] = df['prix'].apply(np.int64)\n",
    "  \n",
    "display(df.dtypes)"
   ]
  },
  {
   "cell_type": "code",
   "execution_count": 28,
   "metadata": {
    "colab": {
     "base_uri": "https://localhost:8080/",
     "height": 793
    },
    "id": "1Dip551X6rO7",
    "outputId": "d4ed4c97-649f-4ffb-864c-a3eb41d856ed"
   },
   "outputs": [
    {
     "data": {
      "image/png": "[encoded data removed]",
      "text/plain": [
       "<Figure size 1152x864 with 2 Axes>"
      ]
     },
     "metadata": {
      "needs_background": "light"
     },
     "output_type": "display_data"
    }
   ],
   "source": [
    "corr_df = df.corr(method='pearson')\n",
    "plt.figure(figsize=(16, 12))\n",
    "sns.heatmap(corr_df, annot=True)\n",
    "plt.show()"
   ]
  },
  {
   "cell_type": "code",
   "execution_count": 29,
   "metadata": {
    "id": "xLf2gSA6gsF5"
   },
   "outputs": [],
   "source": [
    "# Normalisation des latitudes \n",
    "\n",
    "list_latitude = []\n",
    "\n",
    "for commune in df[\"commune\"]:\n",
    "  if commune == 'Villeurbanne':\n",
    "    list_latitude.append(45.7662954)\n",
    "  elif commune == 'Lyon 1er Arrondissement':\n",
    "    list_latitude.append(45.7694158)\n",
    "  elif commune == 'Lyon 2e Arrondissement':\n",
    "    list_latitude.append(45.751953125)\n",
    "  elif commune == 'Lyon 3e Arrondissement':\n",
    "    list_latitude.append(45.76032257080078)\n",
    "  elif commune == 'Lyon 4e Arrondissement':\n",
    "    list_latitude.append(45.774195)\n",
    "  elif commune == 'Lyon 5e Arrondissement':\n",
    "    list_latitude.append(45.7573809)\n",
    "  elif commune == 'Lyon 6e Arrondissement':\n",
    "    list_latitude.append(45.7683968)\n",
    "  elif commune == 'Lyon 7e Arrondissement':\n",
    "    list_latitude.append(45.7460481)\n",
    "  elif commune == 'Lyon 8e Arrondissement':\n",
    "    list_latitude.append(45.730583)\n",
    "  else:\n",
    "    list_latitude.append(45.7739471)\n",
    "\n",
    "df['Latitude'] = list_latitude"
   ]
  },
  {
   "cell_type": "code",
   "execution_count": 30,
   "metadata": {
    "colab": {
     "base_uri": "https://localhost:8080/",
     "height": 424
    },
    "id": "A7URfn-ajutK",
    "outputId": "6b0a5d14-6f9f-434e-ce41-3960af0b8bc1"
   },
   "outputs": [
    {
     "data": {
      "text/html": [
       "<div>\n",
       "<style scoped>\n",
       "    .dataframe tbody tr th:only-of-type {\n",
       "        vertical-align: middle;\n",
       "    }\n",
       "\n",
       "    .dataframe tbody tr th {\n",
       "        vertical-align: top;\n",
       "    }\n",
       "\n",
       "    .dataframe thead th {\n",
       "        text-align: right;\n",
       "    }\n",
       "</style>\n",
       "<table border=\"1\" class=\"dataframe\">\n",
       "  <thead>\n",
       "    <tr style=\"text-align: right;\">\n",
       "      <th></th>\n",
       "      <th>Annee_vente</th>\n",
       "      <th>Annee_construction</th>\n",
       "      <th>Mois</th>\n",
       "      <th>type_achat</th>\n",
       "      <th>type_bien</th>\n",
       "      <th>nombre_pieces</th>\n",
       "      <th>surface_logement</th>\n",
       "      <th>surface_terrain</th>\n",
       "      <th>nombre_parkings</th>\n",
       "      <th>prix</th>\n",
       "      <th>commune</th>\n",
       "      <th>latitude</th>\n",
       "      <th>longitude</th>\n",
       "      <th>Latitude</th>\n",
       "    </tr>\n",
       "  </thead>\n",
       "  <tbody>\n",
       "    <tr>\n",
       "      <th>37174</th>\n",
       "      <td>2021</td>\n",
       "      <td>1990</td>\n",
       "      <td>1</td>\n",
       "      <td>ancien</td>\n",
       "      <td>appartement</td>\n",
       "      <td>2</td>\n",
       "      <td>38</td>\n",
       "      <td>0</td>\n",
       "      <td>1</td>\n",
       "      <td>217900</td>\n",
       "      <td>Lyon 9e Arrondissement</td>\n",
       "      <td>45.804346</td>\n",
       "      <td>4.834998</td>\n",
       "      <td>45.773947</td>\n",
       "    </tr>\n",
       "    <tr>\n",
       "      <th>37175</th>\n",
       "      <td>2017</td>\n",
       "      <td>2011</td>\n",
       "      <td>2</td>\n",
       "      <td>ancien</td>\n",
       "      <td>appartement</td>\n",
       "      <td>5</td>\n",
       "      <td>94</td>\n",
       "      <td>0</td>\n",
       "      <td>2</td>\n",
       "      <td>138000</td>\n",
       "      <td>Lyon 9e Arrondissement</td>\n",
       "      <td>45.802867</td>\n",
       "      <td>4.836781</td>\n",
       "      <td>45.773947</td>\n",
       "    </tr>\n",
       "    <tr>\n",
       "      <th>37176</th>\n",
       "      <td>2019</td>\n",
       "      <td>2011</td>\n",
       "      <td>8</td>\n",
       "      <td>ancien</td>\n",
       "      <td>appartement</td>\n",
       "      <td>3</td>\n",
       "      <td>66</td>\n",
       "      <td>0</td>\n",
       "      <td>1</td>\n",
       "      <td>113000</td>\n",
       "      <td>Lyon 9e Arrondissement</td>\n",
       "      <td>45.802867</td>\n",
       "      <td>4.836781</td>\n",
       "      <td>45.773947</td>\n",
       "    </tr>\n",
       "    <tr>\n",
       "      <th>37177</th>\n",
       "      <td>2019</td>\n",
       "      <td>2011</td>\n",
       "      <td>9</td>\n",
       "      <td>ancien</td>\n",
       "      <td>appartement</td>\n",
       "      <td>5</td>\n",
       "      <td>94</td>\n",
       "      <td>0</td>\n",
       "      <td>1</td>\n",
       "      <td>230000</td>\n",
       "      <td>Lyon 9e Arrondissement</td>\n",
       "      <td>45.802867</td>\n",
       "      <td>4.836781</td>\n",
       "      <td>45.773947</td>\n",
       "    </tr>\n",
       "    <tr>\n",
       "      <th>37178</th>\n",
       "      <td>2020</td>\n",
       "      <td>2011</td>\n",
       "      <td>7</td>\n",
       "      <td>ancien</td>\n",
       "      <td>appartement</td>\n",
       "      <td>5</td>\n",
       "      <td>94</td>\n",
       "      <td>0</td>\n",
       "      <td>1</td>\n",
       "      <td>128900</td>\n",
       "      <td>Lyon 9e Arrondissement</td>\n",
       "      <td>45.802867</td>\n",
       "      <td>4.836781</td>\n",
       "      <td>45.773947</td>\n",
       "    </tr>\n",
       "    <tr>\n",
       "      <th>...</th>\n",
       "      <td>...</td>\n",
       "      <td>...</td>\n",
       "      <td>...</td>\n",
       "      <td>...</td>\n",
       "      <td>...</td>\n",
       "      <td>...</td>\n",
       "      <td>...</td>\n",
       "      <td>...</td>\n",
       "      <td>...</td>\n",
       "      <td>...</td>\n",
       "      <td>...</td>\n",
       "      <td>...</td>\n",
       "      <td>...</td>\n",
       "      <td>...</td>\n",
       "    </tr>\n",
       "    <tr>\n",
       "      <th>40511</th>\n",
       "      <td>2020</td>\n",
       "      <td>2013</td>\n",
       "      <td>1</td>\n",
       "      <td>ancien</td>\n",
       "      <td>appartement</td>\n",
       "      <td>2</td>\n",
       "      <td>34</td>\n",
       "      <td>0</td>\n",
       "      <td>1</td>\n",
       "      <td>226000</td>\n",
       "      <td>Lyon 9e Arrondissement</td>\n",
       "      <td>45.802189</td>\n",
       "      <td>4.826120</td>\n",
       "      <td>45.773947</td>\n",
       "    </tr>\n",
       "    <tr>\n",
       "      <th>40512</th>\n",
       "      <td>2020</td>\n",
       "      <td>2013</td>\n",
       "      <td>4</td>\n",
       "      <td>ancien</td>\n",
       "      <td>appartement</td>\n",
       "      <td>2</td>\n",
       "      <td>33</td>\n",
       "      <td>0</td>\n",
       "      <td>0</td>\n",
       "      <td>217300</td>\n",
       "      <td>Lyon 9e Arrondissement</td>\n",
       "      <td>45.802189</td>\n",
       "      <td>4.826120</td>\n",
       "      <td>45.773947</td>\n",
       "    </tr>\n",
       "    <tr>\n",
       "      <th>40513</th>\n",
       "      <td>2020</td>\n",
       "      <td>2013</td>\n",
       "      <td>4</td>\n",
       "      <td>ancien</td>\n",
       "      <td>appartement</td>\n",
       "      <td>2</td>\n",
       "      <td>23</td>\n",
       "      <td>0</td>\n",
       "      <td>0</td>\n",
       "      <td>145000</td>\n",
       "      <td>Lyon 9e Arrondissement</td>\n",
       "      <td>45.802189</td>\n",
       "      <td>4.826120</td>\n",
       "      <td>45.773947</td>\n",
       "    </tr>\n",
       "    <tr>\n",
       "      <th>40514</th>\n",
       "      <td>2020</td>\n",
       "      <td>2013</td>\n",
       "      <td>4</td>\n",
       "      <td>ancien</td>\n",
       "      <td>appartement</td>\n",
       "      <td>2</td>\n",
       "      <td>34</td>\n",
       "      <td>0</td>\n",
       "      <td>0</td>\n",
       "      <td>206000</td>\n",
       "      <td>Lyon 9e Arrondissement</td>\n",
       "      <td>45.802189</td>\n",
       "      <td>4.826120</td>\n",
       "      <td>45.773947</td>\n",
       "    </tr>\n",
       "    <tr>\n",
       "      <th>40515</th>\n",
       "      <td>2020</td>\n",
       "      <td>2013</td>\n",
       "      <td>5</td>\n",
       "      <td>ancien</td>\n",
       "      <td>appartement</td>\n",
       "      <td>2</td>\n",
       "      <td>30</td>\n",
       "      <td>0</td>\n",
       "      <td>0</td>\n",
       "      <td>187500</td>\n",
       "      <td>Lyon 9e Arrondissement</td>\n",
       "      <td>45.802189</td>\n",
       "      <td>4.826120</td>\n",
       "      <td>45.773947</td>\n",
       "    </tr>\n",
       "  </tbody>\n",
       "</table>\n",
       "<p>3342 rows × 14 columns</p>\n",
       "</div>"
      ],
      "text/plain": [
       "       Annee_vente  Annee_construction  Mois type_achat    type_bien  \\\n",
       "37174         2021                1990     1     ancien  appartement   \n",
       "37175         2017                2011     2     ancien  appartement   \n",
       "37176         2019                2011     8     ancien  appartement   \n",
       "37177         2019                2011     9     ancien  appartement   \n",
       "37178         2020                2011     7     ancien  appartement   \n",
       "...            ...                 ...   ...        ...          ...   \n",
       "40511         2020                2013     1     ancien  appartement   \n",
       "40512         2020                2013     4     ancien  appartement   \n",
       "40513         2020                2013     4     ancien  appartement   \n",
       "40514         2020                2013     4     ancien  appartement   \n",
       "40515         2020                2013     5     ancien  appartement   \n",
       "\n",
       "       nombre_pieces  surface_logement  surface_terrain  nombre_parkings  \\\n",
       "37174              2                38                0                1   \n",
       "37175              5                94                0                2   \n",
       "37176              3                66                0                1   \n",
       "37177              5                94                0                1   \n",
       "37178              5                94                0                1   \n",
       "...              ...               ...              ...              ...   \n",
       "40511              2                34                0                1   \n",
       "40512              2                33                0                0   \n",
       "40513              2                23                0                0   \n",
       "40514              2                34                0                0   \n",
       "40515              2                30                0                0   \n",
       "\n",
       "         prix                 commune   latitude  longitude   Latitude  \n",
       "37174  217900  Lyon 9e Arrondissement  45.804346   4.834998  45.773947  \n",
       "37175  138000  Lyon 9e Arrondissement  45.802867   4.836781  45.773947  \n",
       "37176  113000  Lyon 9e Arrondissement  45.802867   4.836781  45.773947  \n",
       "37177  230000  Lyon 9e Arrondissement  45.802867   4.836781  45.773947  \n",
       "37178  128900  Lyon 9e Arrondissement  45.802867   4.836781  45.773947  \n",
       "...       ...                     ...        ...        ...        ...  \n",
       "40511  226000  Lyon 9e Arrondissement  45.802189   4.826120  45.773947  \n",
       "40512  217300  Lyon 9e Arrondissement  45.802189   4.826120  45.773947  \n",
       "40513  145000  Lyon 9e Arrondissement  45.802189   4.826120  45.773947  \n",
       "40514  206000  Lyon 9e Arrondissement  45.802189   4.826120  45.773947  \n",
       "40515  187500  Lyon 9e Arrondissement  45.802189   4.826120  45.773947  \n",
       "\n",
       "[3342 rows x 14 columns]"
      ]
     },
     "execution_count": 30,
     "metadata": {},
     "output_type": "execute_result"
    }
   ],
   "source": [
    "df[df[\"commune\"]=='Lyon 9e Arrondissement']"
   ]
  },
  {
   "cell_type": "code",
   "execution_count": 31,
   "metadata": {
    "id": "VU_9tu-YmgO3"
   },
   "outputs": [],
   "source": [
    "# Normalisation des longitudes \n",
    "\n",
    "list_long = []\n",
    "\n",
    "for commune in df[\"commune\"]:\n",
    "  if commune == 'Villeurbanne':\n",
    "    list_long.append(4.8796622)\n",
    "  elif commune == 'Lyon 1er Arrondissement':\n",
    "    list_long.append(4.8300276)\n",
    "  elif commune == 'Lyon 2e Arrondissement':\n",
    "    list_long.append(4.826279163360596)\n",
    "  elif commune == 'Lyon 3e Arrondissement':\n",
    "    list_long.append(4.849698066711426)\n",
    "  elif commune == 'Lyon 4e Arrondissement':\n",
    "    list_long.append(4.827882)\n",
    "  elif commune == 'Lyon 5e Arrondissement':\n",
    "    list_long.append(4.8007715)\n",
    "  elif commune == 'Lyon 6e Arrondissement':\n",
    "    list_long.append(4.8493863)\n",
    "  elif commune == 'Lyon 7e Arrondissement':\n",
    "    list_long.append(4.8417503)\n",
    "  elif commune == 'Lyon 8e Arrondissement':\n",
    "    list_long.append(4.8870832)\n",
    "  else:\n",
    "    list_long.append(4.8069094)\n",
    "\n",
    "df['Longitude'] = list_long"
   ]
  },
  {
   "cell_type": "code",
   "execution_count": 32,
   "metadata": {
    "id": "2sucTBcSnasN"
   },
   "outputs": [],
   "source": [
    "df = df.drop(['latitude', 'longitude'], axis = 1)"
   ]
  },
  {
   "cell_type": "markdown",
   "metadata": {},
   "source": [
    "## Machine Learning"
   ]
  },
  {
   "cell_type": "code",
   "execution_count": 33,
   "metadata": {},
   "outputs": [],
   "source": [
    "from sklearn.model_selection import train_test_split\n",
    "from sklearn.impute import SimpleImputer\n",
    "from sklearn.preprocessing import StandardScaler, OneHotEncoder\n",
    "from sklearn.compose import ColumnTransformer\n",
    "from sklearn.linear_model import LinearRegression\n",
    "from sklearn.ensemble import RandomForestRegressor\n",
    "from sklearn.inspection import permutation_importance\n",
    "from sklearn.model_selection import cross_val_score, GridSearchCV"
   ]
  },
  {
   "cell_type": "code",
   "execution_count": 34,
   "metadata": {},
   "outputs": [
    {
     "data": {
      "text/html": [
       "<div>\n",
       "<style scoped>\n",
       "    .dataframe tbody tr th:only-of-type {\n",
       "        vertical-align: middle;\n",
       "    }\n",
       "\n",
       "    .dataframe tbody tr th {\n",
       "        vertical-align: top;\n",
       "    }\n",
       "\n",
       "    .dataframe thead th {\n",
       "        text-align: right;\n",
       "    }\n",
       "</style>\n",
       "<table border=\"1\" class=\"dataframe\">\n",
       "  <thead>\n",
       "    <tr style=\"text-align: right;\">\n",
       "      <th></th>\n",
       "      <th>Annee_vente</th>\n",
       "      <th>Annee_construction</th>\n",
       "      <th>Mois</th>\n",
       "      <th>type_achat</th>\n",
       "      <th>type_bien</th>\n",
       "      <th>nombre_pieces</th>\n",
       "      <th>surface_logement</th>\n",
       "      <th>surface_terrain</th>\n",
       "      <th>nombre_parkings</th>\n",
       "      <th>prix</th>\n",
       "      <th>commune</th>\n",
       "      <th>Latitude</th>\n",
       "      <th>Longitude</th>\n",
       "    </tr>\n",
       "  </thead>\n",
       "  <tbody>\n",
       "    <tr>\n",
       "      <th>0</th>\n",
       "      <td>2019</td>\n",
       "      <td>2003</td>\n",
       "      <td>10</td>\n",
       "      <td>ancien</td>\n",
       "      <td>maison</td>\n",
       "      <td>5</td>\n",
       "      <td>100</td>\n",
       "      <td>247</td>\n",
       "      <td>0</td>\n",
       "      <td>530000</td>\n",
       "      <td>Villeurbanne</td>\n",
       "      <td>45.766295</td>\n",
       "      <td>4.879662</td>\n",
       "    </tr>\n",
       "    <tr>\n",
       "      <th>1</th>\n",
       "      <td>2018</td>\n",
       "      <td>2003</td>\n",
       "      <td>11</td>\n",
       "      <td>ancien</td>\n",
       "      <td>maison</td>\n",
       "      <td>2</td>\n",
       "      <td>52</td>\n",
       "      <td>156</td>\n",
       "      <td>0</td>\n",
       "      <td>328550</td>\n",
       "      <td>Villeurbanne</td>\n",
       "      <td>45.766295</td>\n",
       "      <td>4.879662</td>\n",
       "    </tr>\n",
       "    <tr>\n",
       "      <th>2</th>\n",
       "      <td>2016</td>\n",
       "      <td>2003</td>\n",
       "      <td>8</td>\n",
       "      <td>ancien</td>\n",
       "      <td>appartement</td>\n",
       "      <td>1</td>\n",
       "      <td>28</td>\n",
       "      <td>0</td>\n",
       "      <td>1</td>\n",
       "      <td>42500</td>\n",
       "      <td>Villeurbanne</td>\n",
       "      <td>45.766295</td>\n",
       "      <td>4.879662</td>\n",
       "    </tr>\n",
       "    <tr>\n",
       "      <th>3</th>\n",
       "      <td>2016</td>\n",
       "      <td>2003</td>\n",
       "      <td>11</td>\n",
       "      <td>ancien</td>\n",
       "      <td>appartement</td>\n",
       "      <td>3</td>\n",
       "      <td>67</td>\n",
       "      <td>0</td>\n",
       "      <td>1</td>\n",
       "      <td>180900</td>\n",
       "      <td>Villeurbanne</td>\n",
       "      <td>45.766295</td>\n",
       "      <td>4.879662</td>\n",
       "    </tr>\n",
       "    <tr>\n",
       "      <th>4</th>\n",
       "      <td>2016</td>\n",
       "      <td>2003</td>\n",
       "      <td>12</td>\n",
       "      <td>ancien</td>\n",
       "      <td>appartement</td>\n",
       "      <td>1</td>\n",
       "      <td>28</td>\n",
       "      <td>0</td>\n",
       "      <td>1</td>\n",
       "      <td>97000</td>\n",
       "      <td>Villeurbanne</td>\n",
       "      <td>45.766295</td>\n",
       "      <td>4.879662</td>\n",
       "    </tr>\n",
       "  </tbody>\n",
       "</table>\n",
       "</div>"
      ],
      "text/plain": [
       "   Annee_vente  Annee_construction  Mois type_achat    type_bien  \\\n",
       "0         2019                2003    10     ancien       maison   \n",
       "1         2018                2003    11     ancien       maison   \n",
       "2         2016                2003     8     ancien  appartement   \n",
       "3         2016                2003    11     ancien  appartement   \n",
       "4         2016                2003    12     ancien  appartement   \n",
       "\n",
       "   nombre_pieces  surface_logement  surface_terrain  nombre_parkings    prix  \\\n",
       "0              5               100              247                0  530000   \n",
       "1              2                52              156                0  328550   \n",
       "2              1                28                0                1   42500   \n",
       "3              3                67                0                1  180900   \n",
       "4              1                28                0                1   97000   \n",
       "\n",
       "        commune   Latitude  Longitude  \n",
       "0  Villeurbanne  45.766295   4.879662  \n",
       "1  Villeurbanne  45.766295   4.879662  \n",
       "2  Villeurbanne  45.766295   4.879662  \n",
       "3  Villeurbanne  45.766295   4.879662  \n",
       "4  Villeurbanne  45.766295   4.879662  "
      ]
     },
     "execution_count": 34,
     "metadata": {},
     "output_type": "execute_result"
    }
   ],
   "source": [
    "df.head()"
   ]
  },
  {
   "cell_type": "code",
   "execution_count": 35,
   "metadata": {},
   "outputs": [
    {
     "name": "stdout",
     "output_type": "stream",
     "text": [
      "Found numeric features  ['Annee_vente', 'Annee_construction', 'Mois', 'nombre_pieces', 'surface_logement', 'surface_terrain', 'nombre_parkings', 'prix', 'Latitude', 'Longitude']\n",
      "Found categorical features  ['type_achat', 'type_bien', 'commune']\n"
     ]
    }
   ],
   "source": [
    "#Automatically detect names of numeric/categorical columns\n",
    "numeric_features = []\n",
    "categorical_features = []\n",
    "for i,t in df.dtypes.iteritems():\n",
    "    if ('float' in str(t)) or ('int' in str(t)) :\n",
    "        numeric_features.append(i)\n",
    "    else :\n",
    "        categorical_features.append(i)\n",
    "\n",
    "print('Found numeric features ', numeric_features)\n",
    "print('Found categorical features ', categorical_features)"
   ]
  },
  {
   "cell_type": "markdown",
   "metadata": {},
   "source": [
    "## LinearRegression"
   ]
  },
  {
   "cell_type": "code",
   "execution_count": 36,
   "metadata": {},
   "outputs": [],
   "source": [
    "features_list = ['Annee_vente', 'Annee_construction', 'Mois', 'type_achat', 'type_bien', 'nombre_pieces', \n",
    "                 'surface_logement', 'surface_terrain','nombre_parkings', 'commune']\n",
    "\n",
    "target = [\"prix\"]\n",
    "X = df.loc[:,features_list]\n",
    "y = df.loc[:,target]\n",
    "\n",
    "X_train, X_test, y_train, y_test = train_test_split(X, y, \n",
    "                                                    test_size=0.2, \n",
    "                                                    random_state=0)\n",
    "numeric_features = [0, 1, 2, 5, 6, 7, 8 ]\n",
    "numeric_transformer = StandardScaler()\n",
    "\n",
    "categorical_features = [3, 4, 9]\n",
    "categorical_transformer = OneHotEncoder()\n",
    "\n",
    "feature_encoder = ColumnTransformer(\n",
    "    transformers=[\n",
    "        ('cat', categorical_transformer, categorical_features),    \n",
    "        ('num', numeric_transformer, numeric_features)\n",
    "        ]\n",
    "    )\n",
    "\n",
    "X_train = feature_encoder.fit_transform(X_train)\n",
    "X_test = feature_encoder.transform(X_test)\n",
    "\n",
    "regressor = LinearRegression()\n",
    "regressor.fit(X_train, y_train)\n",
    "                                                    \n",
    "y_train_pred = regressor.predict(X_train)\n",
    "y_test_pred = regressor.predict(X_test)"
   ]
  },
  {
   "cell_type": "code",
   "execution_count": 37,
   "metadata": {},
   "outputs": [
    {
     "name": "stdout",
     "output_type": "stream",
     "text": [
      "R2 score on training set :  0.7378479327274443\n",
      "R2 score on test set :  0.7508578511490449\n"
     ]
    }
   ],
   "source": [
    "print(\"R2 score on training set : \", regressor.score(X_train, y_train))\n",
    "print(\"R2 score on test set : \", regressor.score(X_test, y_test))"
   ]
  },
  {
   "cell_type": "code",
   "execution_count": 38,
   "metadata": {},
   "outputs": [
    {
     "name": "stdout",
     "output_type": "stream",
     "text": [
      "coefficients are:  [[-1.39626816e+17 -1.39626816e+17 -1.64066404e+17 -1.64066404e+17\n",
      "   6.17368799e+17  6.17368799e+17  6.17368799e+17  6.17368799e+17\n",
      "   6.17368799e+17  6.17368799e+17  6.17368799e+17  6.17368799e+17\n",
      "   6.17368799e+17  6.17368799e+17  2.95038969e+04  2.42634749e+02\n",
      "   6.36332441e+03 -2.08260000e+04  1.19748000e+05  3.74220000e+04\n",
      "   1.25840000e+04]]\n",
      "Constant is:  [-3.13675579e+17]\n"
     ]
    }
   ],
   "source": [
    "print(\"coefficients are: \", regressor.coef_) \n",
    "print(\"Constant is: \", regressor.intercept_)"
   ]
  },
  {
   "cell_type": "code",
   "execution_count": 39,
   "metadata": {},
   "outputs": [
    {
     "name": "stdout",
     "output_type": "stream",
     "text": [
      "All transformers are:  [('cat', OneHotEncoder(), [3, 4, 9]), ('num', StandardScaler(), [0, 1, 2, 5, 6, 7, 8])]\n",
      "Categorical columns are:  ['VEFA' 'ancien' 'appartement' 'maison' 'Lyon 1er Arrondissement'\n",
      " 'Lyon 2e Arrondissement' 'Lyon 3e Arrondissement'\n",
      " 'Lyon 4e Arrondissement' 'Lyon 5e Arrondissement'\n",
      " 'Lyon 6e Arrondissement' 'Lyon 7e Arrondissement'\n",
      " 'Lyon 8e Arrondissement' 'Lyon 9e Arrondissement' 'Villeurbanne']\n",
      "numerical columns are:  Index(['Annee_vente', 'Annee_construction', 'Mois', 'nombre_pieces',\n",
      "       'surface_logement', 'surface_terrain', 'nombre_parkings'],\n",
      "      dtype='object')\n"
     ]
    },
    {
     "data": {
      "text/plain": [
       "array(['VEFA', 'ancien', 'appartement', 'maison',\n",
       "       'Lyon 1er Arrondissement', 'Lyon 2e Arrondissement',\n",
       "       'Lyon 3e Arrondissement', 'Lyon 4e Arrondissement',\n",
       "       'Lyon 5e Arrondissement', 'Lyon 6e Arrondissement',\n",
       "       'Lyon 7e Arrondissement', 'Lyon 8e Arrondissement',\n",
       "       'Lyon 9e Arrondissement', 'Villeurbanne', 'Annee_vente',\n",
       "       'Annee_construction', 'Mois', 'nombre_pieces', 'surface_logement',\n",
       "       'surface_terrain', 'nombre_parkings'], dtype=object)"
      ]
     },
     "execution_count": 39,
     "metadata": {},
     "output_type": "execute_result"
    }
   ],
   "source": [
    "print(\"All transformers are: \", feature_encoder.transformers_)\n",
    "categorical_column_names = feature_encoder.transformers_[0][1].categories_\n",
    "categorical_column_names = np.concatenate((categorical_column_names))\n",
    "print(\"Categorical columns are: \", categorical_column_names)\n",
    "numerical_column_names = X.iloc[:, numeric_features].columns\n",
    "print(\"numerical columns are: \", numerical_column_names)\n",
    "all_column_names = np.append(categorical_column_names, numerical_column_names)\n",
    "all_column_names"
   ]
  },
  {
   "cell_type": "code",
   "execution_count": 40,
   "metadata": {},
   "outputs": [
    {
     "data": {
      "text/html": [
       "<div>\n",
       "<style scoped>\n",
       "    .dataframe tbody tr th:only-of-type {\n",
       "        vertical-align: middle;\n",
       "    }\n",
       "\n",
       "    .dataframe tbody tr th {\n",
       "        vertical-align: top;\n",
       "    }\n",
       "\n",
       "    .dataframe thead th {\n",
       "        text-align: right;\n",
       "    }\n",
       "</style>\n",
       "<table border=\"1\" class=\"dataframe\">\n",
       "  <thead>\n",
       "    <tr style=\"text-align: right;\">\n",
       "      <th></th>\n",
       "      <th>feature_names</th>\n",
       "      <th>coefficients</th>\n",
       "    </tr>\n",
       "  </thead>\n",
       "  <tbody>\n",
       "    <tr>\n",
       "      <th>0</th>\n",
       "      <td>VEFA</td>\n",
       "      <td>-1.396268e+17</td>\n",
       "    </tr>\n",
       "    <tr>\n",
       "      <th>1</th>\n",
       "      <td>ancien</td>\n",
       "      <td>-1.396268e+17</td>\n",
       "    </tr>\n",
       "    <tr>\n",
       "      <th>2</th>\n",
       "      <td>appartement</td>\n",
       "      <td>-1.640664e+17</td>\n",
       "    </tr>\n",
       "    <tr>\n",
       "      <th>3</th>\n",
       "      <td>maison</td>\n",
       "      <td>-1.640664e+17</td>\n",
       "    </tr>\n",
       "    <tr>\n",
       "      <th>4</th>\n",
       "      <td>Lyon 1er Arrondissement</td>\n",
       "      <td>6.173688e+17</td>\n",
       "    </tr>\n",
       "  </tbody>\n",
       "</table>\n",
       "</div>"
      ],
      "text/plain": [
       "             feature_names  coefficients\n",
       "0                     VEFA -1.396268e+17\n",
       "1                   ancien -1.396268e+17\n",
       "2              appartement -1.640664e+17\n",
       "3                   maison -1.640664e+17\n",
       "4  Lyon 1er Arrondissement  6.173688e+17"
      ]
     },
     "execution_count": 40,
     "metadata": {},
     "output_type": "execute_result"
    }
   ],
   "source": [
    "feature_importance = pd.DataFrame({\n",
    "    \"feature_names\": all_column_names,\n",
    "    \"coefficients\": regressor.coef_.squeeze()\n",
    "})\n",
    "\n",
    "feature_importance.head()"
   ]
  },
  {
   "cell_type": "code",
   "execution_count": 41,
   "metadata": {},
   "outputs": [
    {
     "data": {
      "image/png": "[encoded data removed]",
      "text/plain": [
       "<Figure size 1080x360 with 1 Axes>"
      ]
     },
     "metadata": {
      "needs_background": "light"
     },
     "output_type": "display_data"
    }
   ],
   "source": [
    "feature_importance[\"coefficients\"] = feature_importance[\"coefficients\"].abs()\n",
    "\n",
    "sns.catplot(y=\"feature_names\", \n",
    "            x=\"coefficients\", \n",
    "            data=feature_importance.sort_values(by=\"coefficients\", ascending=False), \n",
    "            kind=\"bar\",\n",
    "            aspect=30/10, orient = \"h\")\n",
    "\n",
    "plt.xticks(rotation=90)\n",
    "plt.show()"
   ]
  },
  {
   "cell_type": "markdown",
   "metadata": {},
   "source": [
    "## RandomForestRegressor"
   ]
  },
  {
   "cell_type": "code",
   "execution_count": 42,
   "metadata": {},
   "outputs": [
    {
     "name": "stdout",
     "output_type": "stream",
     "text": [
      "150000    331\n",
      "160000    326\n",
      "180000    310\n",
      "120000    294\n",
      "200000    282\n",
      "         ... \n",
      "599500      1\n",
      "314460      1\n",
      "314550      1\n",
      "286339      1\n",
      "520100      1\n",
      "Name: prix, Length: 10235, dtype: int64\n"
     ]
    }
   ],
   "source": [
    "target_distrib = df[\"prix\"].value_counts()\n",
    "print(target_distrib)"
   ]
  },
  {
   "cell_type": "code",
   "execution_count": 43,
   "metadata": {},
   "outputs": [
    {
     "data": {
      "text/plain": [
       "<AxesSubplot:>"
      ]
     },
     "execution_count": 43,
     "metadata": {},
     "output_type": "execute_result"
    },
    {
     "data": {
      "image/png": "[encoded data removed]",
      "text/plain": [
       "<Figure size 432x288 with 1 Axes>"
      ]
     },
     "metadata": {
      "needs_background": "light"
     },
     "output_type": "display_data"
    }
   ],
   "source": [
    "target_distrib.plot()"
   ]
  },
  {
   "cell_type": "code",
   "execution_count": 44,
   "metadata": {},
   "outputs": [
    {
     "name": "stdout",
     "output_type": "stream",
     "text": [
      "#### X_train BEFORE preprocessing ####\n",
      "       Annee_vente  Annee_construction  Mois type_achat    type_bien  \\\n",
      "15006         2020                1990     6     ancien  appartement   \n",
      "16956         2018                1990     9     ancien       maison   \n",
      "29877         2021                1990     5     ancien  appartement   \n",
      "25913         2016                2009    10     ancien  appartement   \n",
      "13036         2021                1990     6     ancien  appartement   \n",
      "\n",
      "       nombre_pieces  surface_logement  surface_terrain  nombre_parkings  \\\n",
      "15006              2                49                0                1   \n",
      "16956              2                60                0                0   \n",
      "29877              2                49                0                1   \n",
      "25913              3                68                0                1   \n",
      "13036              4               110                0                2   \n",
      "\n",
      "                      commune  \n",
      "15006  Lyon 3e Arrondissement  \n",
      "16956  Lyon 3e Arrondissement  \n",
      "29877  Lyon 7e Arrondissement  \n",
      "25913  Lyon 6e Arrondissement  \n",
      "13036  Lyon 2e Arrondissement  \n",
      "#### X_train AFTER preprocessing ####\n",
      "[[ 0.          1.          1.          0.          0.          0.\n",
      "   1.          0.          0.          0.          0.          0.\n",
      "   0.          0.          1.24184524 -0.80603856 -0.23263894 -0.67067389\n",
      "  -0.57588795 -0.10469336  0.66917486]\n",
      " [ 0.          1.          0.          1.          0.          0.\n",
      "   1.          0.          0.          0.          0.          0.\n",
      "   0.          0.         -0.1705835  -0.80603856  0.65731621 -0.67067389\n",
      "  -0.1836829  -0.10469336 -0.99475268]\n",
      " [ 0.          1.          1.          0.          0.          0.\n",
      "   0.          0.          0.          0.          1.          0.\n",
      "   0.          0.          1.94805962 -0.80603856 -0.52929066 -0.67067389\n",
      "  -0.57588795 -0.10469336  0.66917486]\n",
      " [ 0.          1.          1.          0.          0.          0.\n",
      "   0.          0.          0.          1.          0.          0.\n",
      "   0.          0.         -1.58301224  1.30392299  0.95396792  0.17842896\n",
      "   0.10155714 -0.10469336  0.66917486]\n",
      " [ 0.          1.          1.          0.          0.          1.\n",
      "   0.          0.          0.          0.          0.          0.\n",
      "   0.          0.          1.94805962 -0.80603856 -0.23263894  1.02753181\n",
      "   1.59906734 -0.10469336  2.3331024 ]]\n"
     ]
    }
   ],
   "source": [
    "features_list = ['Annee_vente', 'Annee_construction', 'Mois', 'type_achat', 'type_bien',\n",
    "       'nombre_pieces', 'surface_logement', 'surface_terrain',\n",
    "       'nombre_parkings', 'commune']\n",
    "\n",
    "X = df.loc[:,features_list] \n",
    "\n",
    "X_train, X_test, y_train, y_test = train_test_split(X, y, \n",
    "                                                    test_size=0.2, \n",
    "                                                    random_state=0)\n",
    "print(\"#### X_train BEFORE preprocessing ####\")\n",
    "print(X_train.head())\n",
    "\n",
    "numeric_features = ['Annee_vente', 'Annee_construction', 'Mois', 'nombre_pieces', 'surface_logement', 'surface_terrain', 'nombre_parkings'] # Choose which column index we are going to scale\n",
    "numeric_transformer = StandardScaler()\n",
    "\n",
    "categorical_features = ['type_achat', 'type_bien', 'commune'] \n",
    "categorical_transformer = OneHotEncoder()\n",
    "\n",
    "feature_encoder = ColumnTransformer(\n",
    "    transformers=[\n",
    "        ('cat', categorical_transformer, categorical_features),\n",
    "        ('num', numeric_transformer, numeric_features)\n",
    "        ]\n",
    "    )\n",
    "\n",
    "X_train = feature_encoder.fit_transform(X_train)\n",
    "print(\"#### X_train AFTER preprocessing ####\")\n",
    "print(X_train[0:5,:])"
   ]
  },
  {
   "cell_type": "code",
   "execution_count": 45,
   "metadata": {},
   "outputs": [
    {
     "name": "stderr",
     "output_type": "stream",
     "text": [
      "/tmp/ipykernel_63/1520810710.py:8: DataConversionWarning: A column-vector y was passed when a 1d array was expected. Please change the shape of y to (n_samples,), for example using ravel().\n",
      "  regressor.fit(X_train, y_train)\n"
     ]
    },
    {
     "data": {
      "text/plain": [
       "RandomForestRegressor(max_depth=20, min_samples_split=15, warm_start=True)"
      ]
     },
     "execution_count": 45,
     "metadata": {},
     "output_type": "execute_result"
    }
   ],
   "source": [
    "regressor = RandomForestRegressor(n_estimators=100,\n",
    "                                  min_samples_split=15,\n",
    "                                  max_depth=20,\n",
    "                                  min_samples_leaf= 1,\n",
    "                                  bootstrap=True,\n",
    "                                  n_jobs=None,\n",
    "                                  warm_start=True)\n",
    "regressor.fit(X_train, y_train)"
   ]
  },
  {
   "cell_type": "code",
   "execution_count": 46,
   "metadata": {},
   "outputs": [
    {
     "name": "stdout",
     "output_type": "stream",
     "text": [
      "[240858.78373467 285498.39207674 245835.17903912 351043.41552124\n",
      " 666730.57253124]\n"
     ]
    }
   ],
   "source": [
    "y_train_pred = regressor.predict(X_train)\n",
    "print(y_train_pred[:5])"
   ]
  },
  {
   "cell_type": "code",
   "execution_count": 47,
   "metadata": {},
   "outputs": [
    {
     "name": "stdout",
     "output_type": "stream",
     "text": [
      "       Annee_vente  Annee_construction  Mois type_achat    type_bien  \\\n",
      "24800         2020                2019     2     ancien  appartement   \n",
      "5101          2019                2003     3     ancien  appartement   \n",
      "35368         2018                1990    12     ancien  appartement   \n",
      "15321         2020                1990     7     ancien  appartement   \n",
      "15834         2018                1990     9       VEFA  appartement   \n",
      "...            ...                 ...   ...        ...          ...   \n",
      "27541         2018                1990     3     ancien  appartement   \n",
      "35253         2018                1990     7     ancien  appartement   \n",
      "30099         2017                2006    12     ancien  appartement   \n",
      "30805         2017                1990     1     ancien  appartement   \n",
      "28403         2018                1990     5     ancien  appartement   \n",
      "\n",
      "       nombre_pieces  surface_logement  surface_terrain  nombre_parkings  \\\n",
      "24800              4                83                0                1   \n",
      "5101               4                68                0                0   \n",
      "35368              2                37                0                0   \n",
      "15321              3                56                0                0   \n",
      "15834              3                66                0                1   \n",
      "...              ...               ...              ...              ...   \n",
      "27541              3                94                0                0   \n",
      "35253              3                69                0                1   \n",
      "30099              3                65                0                1   \n",
      "30805              2                40                0                1   \n",
      "28403              1                33                0                0   \n",
      "\n",
      "                      commune  \n",
      "24800  Lyon 5e Arrondissement  \n",
      "5101             Villeurbanne  \n",
      "35368  Lyon 8e Arrondissement  \n",
      "15321  Lyon 3e Arrondissement  \n",
      "15834  Lyon 3e Arrondissement  \n",
      "...                       ...  \n",
      "27541  Lyon 7e Arrondissement  \n",
      "35253  Lyon 8e Arrondissement  \n",
      "30099  Lyon 7e Arrondissement  \n",
      "30805  Lyon 7e Arrondissement  \n",
      "28403  Lyon 7e Arrondissement  \n",
      "\n",
      "[8104 rows x 10 columns]\n"
     ]
    }
   ],
   "source": [
    "print(X_test)"
   ]
  },
  {
   "cell_type": "code",
   "execution_count": 48,
   "metadata": {},
   "outputs": [
    {
     "name": "stdout",
     "output_type": "stream",
     "text": [
      "[[ 0.          1.          1.          0.          0.          0.\n",
      "   0.          0.          1.          0.          0.          0.\n",
      "   0.          0.          1.24184524  2.41442907 -1.4192458   1.02753181\n",
      "   0.63638221 -0.10469336  0.66917486]\n",
      " [ 0.          1.          1.          0.          0.          0.\n",
      "   0.          0.          0.          0.          0.          0.\n",
      "   0.          1.          0.53563087  0.63761934 -1.12259409  1.02753181\n",
      "   0.10155714 -0.10469336 -0.99475268]\n",
      " [ 0.          1.          1.          0.          0.          0.\n",
      "   0.          0.          0.          0.          0.          1.\n",
      "   0.          0.         -0.1705835  -0.80603856  1.54727135 -0.67067389\n",
      "  -1.003748   -0.10469336 -0.99475268]\n",
      " [ 0.          1.          1.          0.          0.          0.\n",
      "   1.          0.          0.          0.          0.          0.\n",
      "   0.          0.          1.24184524 -0.80603856  0.06401278  0.17842896\n",
      "  -0.32630292 -0.10469336 -0.99475268]\n",
      " [ 1.          0.          1.          0.          0.          0.\n",
      "   1.          0.          0.          0.          0.          0.\n",
      "   0.          0.         -0.1705835  -0.80603856  0.65731621  0.17842896\n",
      "   0.03024713 -0.10469336  0.66917486]]\n"
     ]
    }
   ],
   "source": [
    "X_test = feature_encoder.transform(X_test)\n",
    "print(X_test[:5])"
   ]
  },
  {
   "cell_type": "code",
   "execution_count": 49,
   "metadata": {},
   "outputs": [
    {
     "name": "stdout",
     "output_type": "stream",
     "text": [
      "[353172.70268941 171709.18005925 129644.52768086 252419.01962437\n",
      " 360327.05273768]\n"
     ]
    }
   ],
   "source": [
    "y_test_pred = regressor.predict(X_test)\n",
    "print(y_test_pred[:5])"
   ]
  },
  {
   "cell_type": "code",
   "execution_count": 50,
   "metadata": {},
   "outputs": [
    {
     "name": "stdout",
     "output_type": "stream",
     "text": [
      "R2 score on training set :  0.8703614527983803\n",
      "R2 score on test set     :  0.7934570267543175\n"
     ]
    }
   ],
   "source": [
    "print(\"R2 score on training set : \", regressor.score(X_train, y_train))\n",
    "print(\"R2 score on test set     : \", regressor.score(X_test, y_test))"
   ]
  },
  {
   "cell_type": "code",
   "execution_count": 51,
   "metadata": {},
   "outputs": [
    {
     "name": "stdout",
     "output_type": "stream",
     "text": [
      "Categorical columns are:  ['VEFA' 'ancien' 'appartement' 'maison' 'Lyon 1er Arrondissement'\n",
      " 'Lyon 2e Arrondissement' 'Lyon 3e Arrondissement'\n",
      " 'Lyon 4e Arrondissement' 'Lyon 5e Arrondissement'\n",
      " 'Lyon 6e Arrondissement' 'Lyon 7e Arrondissement'\n",
      " 'Lyon 8e Arrondissement' 'Lyon 9e Arrondissement' 'Villeurbanne']\n",
      "numerical columns are:  Index(['Annee_vente', 'Annee_construction', 'Mois', 'nombre_pieces',\n",
      "       'surface_logement', 'surface_terrain', 'nombre_parkings'],\n",
      "      dtype='object')\n",
      "All columns name are:  ['VEFA' 'ancien' 'appartement' 'maison' 'Lyon 1er Arrondissement'\n",
      " 'Lyon 2e Arrondissement' 'Lyon 3e Arrondissement'\n",
      " 'Lyon 4e Arrondissement' 'Lyon 5e Arrondissement'\n",
      " 'Lyon 6e Arrondissement' 'Lyon 7e Arrondissement'\n",
      " 'Lyon 8e Arrondissement' 'Lyon 9e Arrondissement' 'Villeurbanne'\n",
      " 'Annee_vente' 'Annee_construction' 'Mois' 'nombre_pieces'\n",
      " 'surface_logement' 'surface_terrain' 'nombre_parkings']\n"
     ]
    }
   ],
   "source": [
    "categorical_column_names = feature_encoder.transformers_[0][1].categories_\n",
    "categorical_column_names = np.concatenate((categorical_column_names))\n",
    "print(\"Categorical columns are: \", categorical_column_names)\n",
    "numerical_column_names = X.loc[:, numeric_features].columns # using the .columns attribute gives us the name of the column \n",
    "print(\"numerical columns are: \", numerical_column_names)\n",
    "all_column_names = np.append(categorical_column_names, numerical_column_names)\n",
    "print(\"All columns name are: \", all_column_names)"
   ]
  },
  {
   "cell_type": "code",
   "execution_count": 52,
   "metadata": {},
   "outputs": [
    {
     "name": "stdout",
     "output_type": "stream",
     "text": [
      "[0.01111674 0.01142068 0.00192746 0.00215371 0.00479919 0.00868375\n",
      " 0.00302409 0.00584404 0.00782019 0.0295678  0.00275049 0.00783797\n",
      " 0.00997943 0.02463904 0.04740935 0.01774109 0.02124862 0.01273864\n",
      " 0.68899405 0.06629978 0.0140039 ]\n"
     ]
    }
   ],
   "source": [
    "feature_importance = pd.DataFrame({\n",
    "    \"feature_names\": all_column_names,\n",
    "    \"coefficients\":regressor.feature_importances_ # CAREFUL HERE. We need to access first index of our list because \n",
    "                                            # Data need to be 1 dimensional\n",
    "                                            # That's what .squeeze()\n",
    "})\n",
    "print(regressor.feature_importances_)"
   ]
  },
  {
   "cell_type": "code",
   "execution_count": 53,
   "metadata": {},
   "outputs": [
    {
     "data": {
      "text/plain": [
       "<seaborn.axisgrid.FacetGrid at 0x7f91cbe89130>"
      ]
     },
     "execution_count": 53,
     "metadata": {},
     "output_type": "execute_result"
    },
    {
     "data": {
      "image/png": "[encoded data removed]",
      "text/plain": [
       "<Figure size 1080x360 with 1 Axes>"
      ]
     },
     "metadata": {
      "needs_background": "light"
     },
     "output_type": "display_data"
    }
   ],
   "source": [
    "sns.catplot(y=\"feature_names\", \n",
    "            x=\"coefficients\", \n",
    "            data=feature_importance.sort_values(by=\"coefficients\", ascending=False), \n",
    "            kind=\"bar\",\n",
    "            aspect=30/10, orient = \"h\") # Resize graph"
   ]
  },
  {
   "cell_type": "code",
   "execution_count": null,
   "metadata": {},
   "outputs": [],
   "source": []
  }
 ],
 "metadata": {
  "colab": {
   "collapsed_sections": [],
   "provenance": []
  },
  "kernelspec": {
   "display_name": "Python 3 (ipykernel)",
   "language": "python",
   "name": "python3"
  },
  "language_info": {
   "codemirror_mode": {
    "name": "ipython",
    "version": 3
   },
   "file_extension": ".py",
   "mimetype": "text/x-python",
   "name": "python",
   "nbconvert_exporter": "python",
   "pygments_lexer": "ipython3",
   "version": "3.9.7"
  }
 },
 "nbformat": 4,
 "nbformat_minor": 4
}
